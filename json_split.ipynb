{
 "cells": [
  {
   "cell_type": "code",
   "execution_count": 2,
   "id": "f0fbb7ea",
   "metadata": {},
   "outputs": [],
   "source": [
    "import os\n",
    "import json\n",
    "from pathlib import Path"
   ]
  },
  {
   "cell_type": "code",
   "execution_count": 3,
   "id": "78436215",
   "metadata": {},
   "outputs": [],
   "source": [
    "root = Path(\"/home/max/Desktop/python_projects/SimJeb/SimJEB_metadata\")\n",
    "dest = Path(\"/home/max/Desktop/python_projects/SimJeb/splits/\")"
   ]
  },
  {
   "cell_type": "code",
   "execution_count": 12,
   "id": "fc3ee491",
   "metadata": {},
   "outputs": [],
   "source": [
    "def save_split_json(source, dest, source_name, class_name):\n",
    "    with open(source) as f:\n",
    "        samples = f.readlines()\n",
    "        \n",
    "    samples = [s.strip() for s in samples]\n",
    "    \n",
    "    with open(dest, 'w') as f:\n",
    "        json.dump({source_name: {class_name: samples}}, f, indent=4)"
   ]
  },
  {
   "cell_type": "code",
   "execution_count": 13,
   "id": "9ed70c15",
   "metadata": {},
   "outputs": [],
   "source": [
    "save_split_json(\n",
    "    root / \"train.txt\",\n",
    "    dest / \"mixed_train.json\",\n",
    "    \"SimJEB\",\n",
    "    \"mixed\",\n",
    ")"
   ]
  },
  {
   "cell_type": "code",
   "execution_count": 14,
   "id": "49985237",
   "metadata": {},
   "outputs": [],
   "source": [
    "save_split_json(\n",
    "    root / \"test.txt\",\n",
    "    dest / \"mixed_test.json\",\n",
    "    \"SimJEB\",\n",
    "    \"mixed\",\n",
    ")"
   ]
  },
  {
   "cell_type": "code",
   "execution_count": null,
   "id": "40c5c442",
   "metadata": {},
   "outputs": [],
   "source": []
  }
 ],
 "metadata": {
  "kernelspec": {
   "display_name": "Python 3 (ipykernel)",
   "language": "python",
   "name": "python3"
  },
  "language_info": {
   "codemirror_mode": {
    "name": "ipython",
    "version": 3
   },
   "file_extension": ".py",
   "mimetype": "text/x-python",
   "name": "python",
   "nbconvert_exporter": "python",
   "pygments_lexer": "ipython3",
   "version": "3.10.6"
  }
 },
 "nbformat": 4,
 "nbformat_minor": 5
}
