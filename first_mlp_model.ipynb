{
 "cells": [
  {
   "cell_type": "code",
   "execution_count": 27,
   "id": "ce78d4f1",
   "metadata": {},
   "outputs": [
    {
     "name": "stdout",
     "output_type": "stream",
     "text": [
      "The autoreload extension is already loaded. To reload it, use:\n",
      "  %reload_ext autoreload\n",
      "TensorFlow version: 2.12.1\n"
     ]
    }
   ],
   "source": [
    "%load_ext autoreload\n",
    "%autoreload 2\n",
    "import os\n",
    "from pathlib import Path\n",
    "import numpy as np\n",
    "import pandas as pd\n",
    "import pyvista as pv\n",
    "from tqdm.auto import tqdm\n",
    "from sklearn.decomposition import PCA\n",
    "from sklearn.ensemble import RandomForestClassifier\n",
    "from sklearn import preprocessing\n",
    "from sklearn.metrics import accuracy_score\n",
    "import tensorflow as tf\n",
    "import imageio\n",
    "import plotly.express as px\n",
    "import umap\n",
    "print(\"TensorFlow version:\", tf.__version__)"
   ]
  },
  {
   "cell_type": "code",
   "execution_count": 2,
   "id": "0e8e02c0",
   "metadata": {},
   "outputs": [],
   "source": [
    "root_dir = Path(\"/home/max/Desktop/python_projects/SimJeb/\")\n",
    "metadata_dir = root_dir / \"SimJEB_metadata\"\n",
    "meshes_dir = root_dir / \"SimJEB_volmesh\""
   ]
  },
  {
   "cell_type": "code",
   "execution_count": 3,
   "id": "9927fe48",
   "metadata": {},
   "outputs": [],
   "source": [
    "train_df = pd.read_csv(metadata_dir / \"train_bracket_category.csv\")\n",
    "test_df = pd.read_csv(metadata_dir / \"test_bracket_category.csv\")"
   ]
  },
  {
   "cell_type": "code",
   "execution_count": 4,
   "id": "c417470d",
   "metadata": {},
   "outputs": [],
   "source": [
    "X_train = train_df.iloc[:,2:201].to_numpy()\n",
    "X_test = test_df.iloc[:,2:201].to_numpy()"
   ]
  },
  {
   "cell_type": "code",
   "execution_count": 5,
   "id": "8d336f6c",
   "metadata": {},
   "outputs": [],
   "source": [
    "le = preprocessing.LabelEncoder()\n",
    "le.fit(train_df.category)\n",
    "y_train = le.transform(train_df.category)\n",
    "y_test = le.transform(test_df.category)"
   ]
  },
  {
   "cell_type": "code",
   "execution_count": 6,
   "id": "f1696cf3",
   "metadata": {},
   "outputs": [
    {
     "name": "stderr",
     "output_type": "stream",
     "text": [
      "2024-02-22 21:58:55.538768: E tensorflow/compiler/xla/stream_executor/cuda/cuda_driver.cc:266] failed call to cuInit: CUDA_ERROR_NO_DEVICE: no CUDA-capable device is detected\n"
     ]
    }
   ],
   "source": [
    "model = tf.keras.models.Sequential([\n",
    "  #tf.keras.layers.Flatten(input_shape=(28, 28)),\n",
    "  tf.keras.layers.Dense(128, activation='relu'),\n",
    "  tf.keras.layers.Dense(16, activation='relu'),\n",
    "  tf.keras.layers.Dropout(0.2),\n",
    "  tf.keras.layers.Dense(len(np.unique(y_train)))\n",
    "])"
   ]
  },
  {
   "cell_type": "code",
   "execution_count": 7,
   "id": "eb0ed9a4",
   "metadata": {},
   "outputs": [
    {
     "data": {
      "text/plain": [
       "array([[ 0.05635617,  0.03180658,  0.03963365,  0.09407528,  0.20209105,\n",
       "        -0.34132394]], dtype=float32)"
      ]
     },
     "execution_count": 7,
     "metadata": {},
     "output_type": "execute_result"
    }
   ],
   "source": [
    "predictions = model(X_train[:1]).numpy()\n",
    "predictions"
   ]
  },
  {
   "cell_type": "code",
   "execution_count": 8,
   "id": "32e449e3",
   "metadata": {},
   "outputs": [],
   "source": [
    "loss_fn = tf.keras.losses.SparseCategoricalCrossentropy(from_logits=True)"
   ]
  },
  {
   "cell_type": "code",
   "execution_count": 9,
   "id": "c15234a1",
   "metadata": {},
   "outputs": [
    {
     "data": {
      "text/plain": [
       "1.6166596"
      ]
     },
     "execution_count": 9,
     "metadata": {},
     "output_type": "execute_result"
    }
   ],
   "source": [
    "loss_fn(y_train[:1], predictions).numpy()"
   ]
  },
  {
   "cell_type": "code",
   "execution_count": 10,
   "id": "f938cd47",
   "metadata": {},
   "outputs": [],
   "source": [
    "model.compile(\n",
    "    optimizer='adam',\n",
    "    loss=loss_fn,\n",
    "    metrics=['accuracy']\n",
    ")"
   ]
  },
  {
   "cell_type": "code",
   "execution_count": 11,
   "id": "b2365818",
   "metadata": {},
   "outputs": [
    {
     "name": "stdout",
     "output_type": "stream",
     "text": [
      "Model: \"sequential\"\n",
      "_________________________________________________________________\n",
      " Layer (type)                Output Shape              Param #   \n",
      "=================================================================\n",
      " dense (Dense)               (1, 128)                  25600     \n",
      "                                                                 \n",
      " dense_1 (Dense)             (1, 16)                   2064      \n",
      "                                                                 \n",
      " dropout (Dropout)           (1, 16)                   0         \n",
      "                                                                 \n",
      " dense_2 (Dense)             (1, 6)                    102       \n",
      "                                                                 \n",
      "=================================================================\n",
      "Total params: 27,766\n",
      "Trainable params: 27,766\n",
      "Non-trainable params: 0\n",
      "_________________________________________________________________\n"
     ]
    }
   ],
   "source": [
    "model.summary()"
   ]
  },
  {
   "cell_type": "code",
   "execution_count": 12,
   "id": "4108f5d5",
   "metadata": {},
   "outputs": [],
   "source": [
    "embeddings_dir = metadata_dir / \"mlp_embeddings\"\n",
    "embeddings_dir.mkdir(parents=True, exist_ok=True)"
   ]
  },
  {
   "cell_type": "code",
   "execution_count": 13,
   "id": "11cae07f",
   "metadata": {
    "scrolled": true
   },
   "outputs": [
    {
     "data": {
      "application/vnd.jupyter.widget-view+json": {
       "model_id": "d7ebcf3ccd1d407cb9eabaf1124cd3fd",
       "version_major": 2,
       "version_minor": 0
      },
      "text/plain": [
       "  0%|          | 0/200 [00:00<?, ?it/s]"
      ]
     },
     "metadata": {},
     "output_type": "display_data"
    },
    {
     "name": "stdout",
     "output_type": "stream",
     "text": [
      "8/8 [==============================] - 1s 4ms/step - loss: 1.6520 - accuracy: 0.3320\n",
      "8/8 [==============================] - 0s 3ms/step - loss: 1.3509 - accuracy: 0.5061\n",
      "8/8 [==============================] - 0s 3ms/step - loss: 1.2159 - accuracy: 0.5263\n",
      "8/8 [==============================] - 0s 3ms/step - loss: 1.1051 - accuracy: 0.6154\n",
      "8/8 [==============================] - 0s 2ms/step - loss: 1.0754 - accuracy: 0.6073\n",
      "8/8 [==============================] - 0s 3ms/step - loss: 1.0402 - accuracy: 0.6437\n",
      "8/8 [==============================] - 0s 3ms/step - loss: 0.9883 - accuracy: 0.6356\n",
      "8/8 [==============================] - 0s 4ms/step - loss: 0.9211 - accuracy: 0.6599\n",
      "8/8 [==============================] - 0s 3ms/step - loss: 0.9227 - accuracy: 0.6559\n",
      "8/8 [==============================] - 0s 3ms/step - loss: 0.8418 - accuracy: 0.7368\n",
      "8/8 [==============================] - 0s 3ms/step - loss: 0.8433 - accuracy: 0.7166\n",
      "8/8 [==============================] - 0s 3ms/step - loss: 0.8295 - accuracy: 0.7166\n",
      "8/8 [==============================] - 0s 3ms/step - loss: 0.7664 - accuracy: 0.7126\n",
      "8/8 [==============================] - 0s 3ms/step - loss: 0.7642 - accuracy: 0.7611\n",
      "8/8 [==============================] - 0s 3ms/step - loss: 0.7480 - accuracy: 0.7490\n",
      "8/8 [==============================] - 0s 3ms/step - loss: 0.6843 - accuracy: 0.7571\n",
      "8/8 [==============================] - 0s 3ms/step - loss: 0.7137 - accuracy: 0.7449\n",
      "8/8 [==============================] - 0s 3ms/step - loss: 0.6711 - accuracy: 0.7611\n",
      "8/8 [==============================] - 0s 3ms/step - loss: 0.6213 - accuracy: 0.7895\n",
      "8/8 [==============================] - 0s 3ms/step - loss: 0.6049 - accuracy: 0.7773\n",
      "8/8 [==============================] - 0s 3ms/step - loss: 0.5951 - accuracy: 0.8097\n",
      "8/8 [==============================] - 0s 3ms/step - loss: 0.5506 - accuracy: 0.8300\n",
      "8/8 [==============================] - 0s 3ms/step - loss: 0.5129 - accuracy: 0.8340\n",
      "8/8 [==============================] - 0s 3ms/step - loss: 0.5113 - accuracy: 0.8462\n",
      "8/8 [==============================] - 0s 3ms/step - loss: 0.5049 - accuracy: 0.8381\n",
      "8/8 [==============================] - 0s 3ms/step - loss: 0.4914 - accuracy: 0.8381\n",
      "8/8 [==============================] - 0s 3ms/step - loss: 0.4648 - accuracy: 0.8381\n",
      "8/8 [==============================] - 0s 3ms/step - loss: 0.4461 - accuracy: 0.8704\n",
      "8/8 [==============================] - 0s 3ms/step - loss: 0.4175 - accuracy: 0.8907\n",
      "8/8 [==============================] - 0s 3ms/step - loss: 0.4157 - accuracy: 0.8785\n",
      "8/8 [==============================] - 0s 3ms/step - loss: 0.3678 - accuracy: 0.8988\n",
      "8/8 [==============================] - 0s 3ms/step - loss: 0.3734 - accuracy: 0.8947\n",
      "8/8 [==============================] - 0s 3ms/step - loss: 0.3772 - accuracy: 0.8785\n",
      "8/8 [==============================] - 0s 3ms/step - loss: 0.3977 - accuracy: 0.8664\n",
      "8/8 [==============================] - 0s 3ms/step - loss: 0.3711 - accuracy: 0.8745\n",
      "8/8 [==============================] - 0s 3ms/step - loss: 0.3384 - accuracy: 0.8907\n",
      "8/8 [==============================] - 0s 3ms/step - loss: 0.3239 - accuracy: 0.9028\n",
      "8/8 [==============================] - 0s 3ms/step - loss: 0.3177 - accuracy: 0.8988\n",
      "8/8 [==============================] - 0s 3ms/step - loss: 0.3017 - accuracy: 0.9231\n",
      "8/8 [==============================] - 0s 3ms/step - loss: 0.2912 - accuracy: 0.9190\n",
      "8/8 [==============================] - 0s 3ms/step - loss: 0.2630 - accuracy: 0.9352\n",
      "8/8 [==============================] - 0s 3ms/step - loss: 0.2612 - accuracy: 0.9271\n",
      "8/8 [==============================] - 0s 3ms/step - loss: 0.2593 - accuracy: 0.9069\n",
      "8/8 [==============================] - 0s 3ms/step - loss: 0.2359 - accuracy: 0.9433\n",
      "8/8 [==============================] - 0s 3ms/step - loss: 0.2478 - accuracy: 0.9352\n",
      "8/8 [==============================] - 0s 3ms/step - loss: 0.2580 - accuracy: 0.9271\n",
      "8/8 [==============================] - 0s 3ms/step - loss: 0.2434 - accuracy: 0.9393\n",
      "8/8 [==============================] - 0s 3ms/step - loss: 0.2144 - accuracy: 0.9514\n",
      "8/8 [==============================] - 0s 3ms/step - loss: 0.2185 - accuracy: 0.9474\n",
      "8/8 [==============================] - 0s 3ms/step - loss: 0.2074 - accuracy: 0.9514\n",
      "8/8 [==============================] - 0s 3ms/step - loss: 0.1871 - accuracy: 0.9474\n",
      "8/8 [==============================] - 0s 3ms/step - loss: 0.1936 - accuracy: 0.9433\n",
      "8/8 [==============================] - 0s 3ms/step - loss: 0.2017 - accuracy: 0.9312\n",
      "8/8 [==============================] - 0s 3ms/step - loss: 0.1979 - accuracy: 0.9474\n",
      "8/8 [==============================] - 0s 3ms/step - loss: 0.1922 - accuracy: 0.9514\n",
      "8/8 [==============================] - 0s 3ms/step - loss: 0.1993 - accuracy: 0.9393\n",
      "8/8 [==============================] - 0s 3ms/step - loss: 0.1640 - accuracy: 0.9433\n",
      "8/8 [==============================] - 0s 3ms/step - loss: 0.1705 - accuracy: 0.9555\n",
      "8/8 [==============================] - 0s 3ms/step - loss: 0.1640 - accuracy: 0.9595\n",
      "8/8 [==============================] - 0s 3ms/step - loss: 0.1551 - accuracy: 0.9555\n",
      "8/8 [==============================] - 0s 3ms/step - loss: 0.1455 - accuracy: 0.9717\n",
      "8/8 [==============================] - 0s 3ms/step - loss: 0.2014 - accuracy: 0.9312\n",
      "8/8 [==============================] - 0s 3ms/step - loss: 0.1503 - accuracy: 0.9636\n",
      "8/8 [==============================] - 0s 3ms/step - loss: 0.1268 - accuracy: 0.9717\n",
      "8/8 [==============================] - 0s 3ms/step - loss: 0.1588 - accuracy: 0.9474\n",
      "8/8 [==============================] - 0s 3ms/step - loss: 0.1215 - accuracy: 0.9636\n",
      "8/8 [==============================] - 0s 3ms/step - loss: 0.1204 - accuracy: 0.9757\n",
      "8/8 [==============================] - 0s 3ms/step - loss: 0.1307 - accuracy: 0.9717\n",
      "8/8 [==============================] - 0s 3ms/step - loss: 0.1224 - accuracy: 0.9717\n",
      "8/8 [==============================] - 0s 3ms/step - loss: 0.1197 - accuracy: 0.9514\n",
      "8/8 [==============================] - 0s 3ms/step - loss: 0.1272 - accuracy: 0.9676\n",
      "8/8 [==============================] - 0s 3ms/step - loss: 0.1175 - accuracy: 0.9757\n",
      "8/8 [==============================] - 0s 3ms/step - loss: 0.1066 - accuracy: 0.9798\n",
      "8/8 [==============================] - 0s 3ms/step - loss: 0.1073 - accuracy: 0.9717\n",
      "8/8 [==============================] - 0s 3ms/step - loss: 0.1218 - accuracy: 0.9798\n",
      "8/8 [==============================] - 0s 3ms/step - loss: 0.1208 - accuracy: 0.9757\n",
      "8/8 [==============================] - 0s 3ms/step - loss: 0.0939 - accuracy: 0.9757\n",
      "8/8 [==============================] - 0s 3ms/step - loss: 0.0850 - accuracy: 0.9919\n",
      "8/8 [==============================] - 0s 3ms/step - loss: 0.1057 - accuracy: 0.9919\n",
      "8/8 [==============================] - 0s 3ms/step - loss: 0.1010 - accuracy: 0.9757\n",
      "8/8 [==============================] - 0s 5ms/step - loss: 0.1162 - accuracy: 0.9676\n",
      "8/8 [==============================] - 0s 4ms/step - loss: 0.0974 - accuracy: 0.9757\n",
      "8/8 [==============================] - 0s 4ms/step - loss: 0.0819 - accuracy: 0.9879\n",
      "8/8 [==============================] - 0s 3ms/step - loss: 0.0909 - accuracy: 0.9717\n",
      "8/8 [==============================] - 0s 3ms/step - loss: 0.0883 - accuracy: 0.9838\n",
      "8/8 [==============================] - 0s 3ms/step - loss: 0.0946 - accuracy: 0.9798\n",
      "8/8 [==============================] - 0s 3ms/step - loss: 0.0918 - accuracy: 0.9838\n",
      "8/8 [==============================] - 0s 3ms/step - loss: 0.0920 - accuracy: 0.9838\n",
      "8/8 [==============================] - 0s 3ms/step - loss: 0.0959 - accuracy: 0.9717\n",
      "8/8 [==============================] - 0s 3ms/step - loss: 0.0807 - accuracy: 0.9838\n",
      "8/8 [==============================] - 0s 3ms/step - loss: 0.0847 - accuracy: 0.9838\n",
      "8/8 [==============================] - 0s 3ms/step - loss: 0.1019 - accuracy: 0.9676\n",
      "8/8 [==============================] - 0s 3ms/step - loss: 0.0738 - accuracy: 0.9838\n",
      "8/8 [==============================] - 0s 3ms/step - loss: 0.0645 - accuracy: 0.9879\n",
      "8/8 [==============================] - 0s 3ms/step - loss: 0.0628 - accuracy: 0.9879\n",
      "8/8 [==============================] - 0s 3ms/step - loss: 0.0845 - accuracy: 0.9757\n"
     ]
    },
    {
     "name": "stdout",
     "output_type": "stream",
     "text": [
      "8/8 [==============================] - 0s 3ms/step - loss: 0.0681 - accuracy: 0.9838\n",
      "8/8 [==============================] - 0s 3ms/step - loss: 0.0714 - accuracy: 0.9838\n",
      "8/8 [==============================] - 0s 3ms/step - loss: 0.0913 - accuracy: 0.9717\n",
      "8/8 [==============================] - 0s 3ms/step - loss: 0.1203 - accuracy: 0.9555\n",
      "8/8 [==============================] - 0s 3ms/step - loss: 0.0893 - accuracy: 0.9636\n",
      "8/8 [==============================] - 0s 3ms/step - loss: 0.0793 - accuracy: 0.9879\n",
      "8/8 [==============================] - 0s 3ms/step - loss: 0.0729 - accuracy: 0.9757\n",
      "8/8 [==============================] - 0s 3ms/step - loss: 0.0657 - accuracy: 0.9838\n",
      "8/8 [==============================] - 0s 3ms/step - loss: 0.0604 - accuracy: 0.9919\n",
      "8/8 [==============================] - 0s 3ms/step - loss: 0.0768 - accuracy: 0.9879\n",
      "8/8 [==============================] - 0s 3ms/step - loss: 0.0901 - accuracy: 0.9636\n",
      "8/8 [==============================] - 0s 3ms/step - loss: 0.0819 - accuracy: 0.9757\n",
      "8/8 [==============================] - 0s 2ms/step - loss: 0.0517 - accuracy: 0.9838\n",
      "8/8 [==============================] - 0s 3ms/step - loss: 0.0711 - accuracy: 0.9879\n",
      "8/8 [==============================] - 0s 3ms/step - loss: 0.0783 - accuracy: 0.9676\n",
      "8/8 [==============================] - 0s 3ms/step - loss: 0.0751 - accuracy: 0.9838\n",
      "8/8 [==============================] - 0s 3ms/step - loss: 0.0731 - accuracy: 0.9838\n",
      "8/8 [==============================] - 0s 3ms/step - loss: 0.0745 - accuracy: 0.9757\n",
      "8/8 [==============================] - 0s 3ms/step - loss: 0.0718 - accuracy: 0.9838\n",
      "8/8 [==============================] - 0s 3ms/step - loss: 0.0661 - accuracy: 0.9717\n",
      "8/8 [==============================] - 0s 3ms/step - loss: 0.0712 - accuracy: 0.9838\n",
      "8/8 [==============================] - 0s 3ms/step - loss: 0.0729 - accuracy: 0.9838\n",
      "8/8 [==============================] - 0s 2ms/step - loss: 0.0734 - accuracy: 0.9798\n",
      "8/8 [==============================] - 0s 4ms/step - loss: 0.0589 - accuracy: 0.9838\n",
      "8/8 [==============================] - 0s 3ms/step - loss: 0.0649 - accuracy: 0.9757\n",
      "8/8 [==============================] - 0s 3ms/step - loss: 0.0657 - accuracy: 0.9838\n",
      "8/8 [==============================] - 0s 3ms/step - loss: 0.0475 - accuracy: 0.9838\n",
      "8/8 [==============================] - 0s 3ms/step - loss: 0.0600 - accuracy: 0.9879\n",
      "8/8 [==============================] - 0s 3ms/step - loss: 0.0558 - accuracy: 0.9838\n",
      "8/8 [==============================] - 0s 3ms/step - loss: 0.0627 - accuracy: 0.9798\n",
      "8/8 [==============================] - 0s 3ms/step - loss: 0.0774 - accuracy: 0.9636\n",
      "8/8 [==============================] - 0s 3ms/step - loss: 0.0571 - accuracy: 0.9838\n",
      "8/8 [==============================] - 0s 3ms/step - loss: 0.0560 - accuracy: 0.9879\n",
      "8/8 [==============================] - 0s 3ms/step - loss: 0.0626 - accuracy: 0.9798\n",
      "8/8 [==============================] - 0s 3ms/step - loss: 0.0434 - accuracy: 0.9919\n",
      "8/8 [==============================] - 0s 3ms/step - loss: 0.0432 - accuracy: 0.9879\n",
      "8/8 [==============================] - 0s 3ms/step - loss: 0.0704 - accuracy: 0.9717\n",
      "8/8 [==============================] - 0s 3ms/step - loss: 0.0599 - accuracy: 0.9919\n",
      "8/8 [==============================] - 0s 3ms/step - loss: 0.0600 - accuracy: 0.9798\n",
      "8/8 [==============================] - 0s 2ms/step - loss: 0.0532 - accuracy: 0.9879\n",
      "8/8 [==============================] - 0s 3ms/step - loss: 0.0668 - accuracy: 0.9798\n",
      "8/8 [==============================] - 0s 3ms/step - loss: 0.0544 - accuracy: 0.9879\n",
      "8/8 [==============================] - 0s 3ms/step - loss: 0.0697 - accuracy: 0.9798\n",
      "8/8 [==============================] - 0s 3ms/step - loss: 0.0559 - accuracy: 0.9757\n",
      "8/8 [==============================] - 0s 3ms/step - loss: 0.0496 - accuracy: 0.9960\n",
      "8/8 [==============================] - 0s 3ms/step - loss: 0.0472 - accuracy: 0.9879\n",
      "8/8 [==============================] - 0s 3ms/step - loss: 0.0501 - accuracy: 0.9879\n",
      "8/8 [==============================] - 0s 3ms/step - loss: 0.0441 - accuracy: 0.9879\n",
      "8/8 [==============================] - 0s 3ms/step - loss: 0.0665 - accuracy: 0.9798\n",
      "8/8 [==============================] - 0s 3ms/step - loss: 0.0435 - accuracy: 0.9838\n",
      "8/8 [==============================] - 0s 3ms/step - loss: 0.0619 - accuracy: 0.9757\n",
      "8/8 [==============================] - 0s 3ms/step - loss: 0.0364 - accuracy: 0.9919\n",
      "8/8 [==============================] - 0s 3ms/step - loss: 0.0493 - accuracy: 0.9838\n",
      "8/8 [==============================] - 0s 3ms/step - loss: 0.0551 - accuracy: 0.9879\n",
      "8/8 [==============================] - 0s 3ms/step - loss: 0.0304 - accuracy: 0.9919\n",
      "8/8 [==============================] - 0s 3ms/step - loss: 0.0545 - accuracy: 0.9838\n",
      "8/8 [==============================] - 0s 2ms/step - loss: 0.0533 - accuracy: 0.9838\n",
      "8/8 [==============================] - 0s 4ms/step - loss: 0.0523 - accuracy: 0.9838\n",
      "8/8 [==============================] - 0s 2ms/step - loss: 0.0421 - accuracy: 0.9879\n",
      "8/8 [==============================] - 0s 2ms/step - loss: 0.0478 - accuracy: 0.9879\n",
      "8/8 [==============================] - 0s 3ms/step - loss: 0.0675 - accuracy: 0.9838\n",
      "8/8 [==============================] - 0s 3ms/step - loss: 0.0353 - accuracy: 0.9919\n",
      "8/8 [==============================] - 0s 3ms/step - loss: 0.0540 - accuracy: 0.9757\n",
      "8/8 [==============================] - 0s 3ms/step - loss: 0.0410 - accuracy: 0.9919\n",
      "8/8 [==============================] - 0s 3ms/step - loss: 0.0321 - accuracy: 0.9960\n",
      "8/8 [==============================] - 0s 3ms/step - loss: 0.0619 - accuracy: 0.9757\n",
      "8/8 [==============================] - 0s 3ms/step - loss: 0.0417 - accuracy: 0.9879\n",
      "8/8 [==============================] - 0s 3ms/step - loss: 0.0337 - accuracy: 0.9879\n",
      "8/8 [==============================] - 0s 3ms/step - loss: 0.0298 - accuracy: 0.9919\n",
      "8/8 [==============================] - 0s 3ms/step - loss: 0.0483 - accuracy: 0.9838\n",
      "8/8 [==============================] - 0s 4ms/step - loss: 0.0465 - accuracy: 0.9838\n",
      "8/8 [==============================] - 0s 3ms/step - loss: 0.0420 - accuracy: 0.9838\n",
      "8/8 [==============================] - 0s 3ms/step - loss: 0.0589 - accuracy: 0.9757\n",
      "8/8 [==============================] - 0s 3ms/step - loss: 0.0357 - accuracy: 0.9879\n",
      "8/8 [==============================] - 0s 3ms/step - loss: 0.0267 - accuracy: 0.9919\n",
      "8/8 [==============================] - 0s 2ms/step - loss: 0.0394 - accuracy: 0.9879\n",
      "8/8 [==============================] - 0s 3ms/step - loss: 0.0263 - accuracy: 0.9960\n",
      "8/8 [==============================] - 0s 3ms/step - loss: 0.0478 - accuracy: 0.9879\n",
      "8/8 [==============================] - 0s 3ms/step - loss: 0.0423 - accuracy: 0.9919\n",
      "8/8 [==============================] - 0s 3ms/step - loss: 0.0305 - accuracy: 1.0000\n",
      "8/8 [==============================] - 0s 3ms/step - loss: 0.0546 - accuracy: 0.9798\n",
      "8/8 [==============================] - 0s 3ms/step - loss: 0.0401 - accuracy: 0.9838\n",
      "8/8 [==============================] - 0s 3ms/step - loss: 0.0382 - accuracy: 0.9798\n",
      "8/8 [==============================] - 0s 3ms/step - loss: 0.0410 - accuracy: 0.9838\n",
      "8/8 [==============================] - 0s 3ms/step - loss: 0.0308 - accuracy: 0.9919\n",
      "8/8 [==============================] - 0s 3ms/step - loss: 0.0285 - accuracy: 0.9919\n",
      "8/8 [==============================] - 0s 3ms/step - loss: 0.0253 - accuracy: 0.9960\n",
      "8/8 [==============================] - 0s 3ms/step - loss: 0.0500 - accuracy: 0.9838\n",
      "8/8 [==============================] - 0s 3ms/step - loss: 0.0334 - accuracy: 0.9919\n",
      "8/8 [==============================] - 0s 3ms/step - loss: 0.0441 - accuracy: 0.9879\n",
      "8/8 [==============================] - 0s 3ms/step - loss: 0.0429 - accuracy: 0.9838\n",
      "8/8 [==============================] - 0s 3ms/step - loss: 0.0502 - accuracy: 0.9879\n",
      "8/8 [==============================] - 0s 3ms/step - loss: 0.0458 - accuracy: 0.9879\n",
      "8/8 [==============================] - 0s 3ms/step - loss: 0.0362 - accuracy: 0.9838\n",
      "8/8 [==============================] - 0s 3ms/step - loss: 0.0435 - accuracy: 0.9879\n",
      "8/8 [==============================] - 0s 3ms/step - loss: 0.0409 - accuracy: 0.9919\n"
     ]
    },
    {
     "name": "stdout",
     "output_type": "stream",
     "text": [
      "8/8 [==============================] - 0s 3ms/step - loss: 0.0471 - accuracy: 0.9757\n",
      "8/8 [==============================] - 0s 3ms/step - loss: 0.0276 - accuracy: 0.9879\n",
      "8/8 [==============================] - 0s 3ms/step - loss: 0.0282 - accuracy: 0.9919\n",
      "8/8 [==============================] - 0s 3ms/step - loss: 0.0501 - accuracy: 0.9879\n",
      "8/8 [==============================] - 0s 3ms/step - loss: 0.0302 - accuracy: 0.9960\n",
      "8/8 [==============================] - 0s 3ms/step - loss: 0.0252 - accuracy: 0.9919\n",
      "8/8 [==============================] - 0s 3ms/step - loss: 0.0325 - accuracy: 0.9879\n",
      "8/8 [==============================] - 0s 3ms/step - loss: 0.0259 - accuracy: 0.9919\n"
     ]
    }
   ],
   "source": [
    "EPOCHS = 200\n",
    "for i in tqdm(range(EPOCHS)):\n",
    "    layer_name = 'dense_1'\n",
    "    intermediate_layer_model = tf.keras.Model(\n",
    "        inputs=model.input,\n",
    "        outputs=model.get_layer(layer_name).output\n",
    "    )\n",
    "    intermediate_output = intermediate_layer_model(X_train).numpy()\n",
    "    with open(embeddings_dir / f\"{str(i).zfill(4)}.npy\", \"wb\") as f:\n",
    "        np.save(f, intermediate_output)\n",
    "    model.fit(X_train, y_train, epochs=1)"
   ]
  },
  {
   "cell_type": "code",
   "execution_count": 50,
   "id": "a9ad6b9b",
   "metadata": {},
   "outputs": [
    {
     "name": "stdout",
     "output_type": "stream",
     "text": [
      "3/3 - 0s - loss: 5.3000 - accuracy: 0.7349 - 24ms/epoch - 8ms/step\n"
     ]
    },
    {
     "data": {
      "text/plain": [
       "[5.299956798553467, 0.7349397540092468]"
      ]
     },
     "execution_count": 50,
     "metadata": {},
     "output_type": "execute_result"
    }
   ],
   "source": [
    "model.evaluate(X_test,  y_test, verbose=2)"
   ]
  },
  {
   "cell_type": "code",
   "execution_count": 43,
   "id": "2cae6285",
   "metadata": {},
   "outputs": [],
   "source": [
    "probability_model = tf.keras.Sequential([\n",
    "  model,\n",
    "  tf.keras.layers.Softmax()\n",
    "])"
   ]
  },
  {
   "cell_type": "code",
   "execution_count": 44,
   "id": "d8c8ad7d",
   "metadata": {},
   "outputs": [
    {
     "data": {
      "text/plain": [
       "<tf.Tensor: shape=(5, 6), dtype=float32, numpy=\n",
       "array([[1.51246890e-10, 3.11009656e-11, 9.99996781e-01, 2.31875177e-07,\n",
       "        2.80550148e-06, 6.22688958e-08],\n",
       "       [9.50063989e-02, 5.81629336e-01, 1.29224523e-03, 3.13605726e-01,\n",
       "        6.82642590e-03, 1.63984590e-03],\n",
       "       [1.90493956e-01, 1.24345481e-01, 1.17606260e-02, 6.35109246e-01,\n",
       "        3.23987864e-02, 5.89181762e-03],\n",
       "       [6.41778111e-01, 2.38964632e-01, 3.34232673e-02, 7.27518946e-02,\n",
       "        6.91814395e-03, 6.16393145e-03],\n",
       "       [8.42930198e-01, 1.60081629e-02, 9.88573115e-03, 1.13700494e-01,\n",
       "        1.67239588e-02, 7.51469575e-04]], dtype=float32)>"
      ]
     },
     "execution_count": 44,
     "metadata": {},
     "output_type": "execute_result"
    }
   ],
   "source": [
    "probability_model(X_test[:5])"
   ]
  },
  {
   "cell_type": "code",
   "execution_count": 46,
   "id": "2963d9df",
   "metadata": {},
   "outputs": [],
   "source": [
    "layer_name = 'dense_5'\n",
    "intermediate_layer_model = tf.keras.Model(\n",
    "    inputs=model.input,\n",
    "    outputs=model.get_layer(layer_name).output\n",
    ")\n",
    "intermediate_output = intermediate_layer_model(X_train)"
   ]
  },
  {
   "cell_type": "code",
   "execution_count": 47,
   "id": "7a423dbc",
   "metadata": {},
   "outputs": [
    {
     "data": {
      "text/plain": [
       "TensorShape([247, 16])"
      ]
     },
     "execution_count": 47,
     "metadata": {},
     "output_type": "execute_result"
    }
   ],
   "source": [
    "intermediate_output.shape"
   ]
  },
  {
   "cell_type": "code",
   "execution_count": 14,
   "id": "3b1db073",
   "metadata": {},
   "outputs": [],
   "source": [
    "embedding_last = np.load(embeddings_dir / \"0199.npy\")"
   ]
  },
  {
   "cell_type": "code",
   "execution_count": 18,
   "id": "9e1caafb",
   "metadata": {},
   "outputs": [],
   "source": [
    "mapping = umap.UMAP().fit(embedding_last)\n",
    "embedding_umap_last = mapping.transform(embedding_last)"
   ]
  },
  {
   "cell_type": "code",
   "execution_count": 19,
   "id": "67872c71",
   "metadata": {},
   "outputs": [
    {
     "data": {
      "text/plain": [
       "(array([-3.3294551, -5.5773387], dtype=float32),\n",
       " array([24.625387, 22.008465], dtype=float32))"
      ]
     },
     "execution_count": 19,
     "metadata": {},
     "output_type": "execute_result"
    }
   ],
   "source": [
    "np.min(embedding_umap_last, axis=0), np.max(embedding_umap_last, axis=0)"
   ]
  },
  {
   "cell_type": "code",
   "execution_count": 54,
   "id": "a36b6cb3",
   "metadata": {},
   "outputs": [],
   "source": [
    "train_df[\"component_0\"] = embedding[:,0]\n",
    "train_df[\"component_1\"] = embedding[:,1]"
   ]
  },
  {
   "cell_type": "code",
   "execution_count": 56,
   "id": "659d3820",
   "metadata": {},
   "outputs": [],
   "source": [
    "fig = px.scatter(\n",
    "    train_df,\n",
    "    x='component_0',\n",
    "    y='component_1',\n",
    "    color='category',\n",
    "    hover_data=['id'],\n",
    "    title='UMAP of SimJEB geometries based on MLP embeddings',\n",
    "    labels={'X': 'component_0', 'Y': 'component_1', 'Type': 'category', 'ID': 'ID'}\n",
    ")\n",
    "\n",
    "# Save the plot to an HTML file\n",
    "fig.write_html(metadata_dir / \"MLP_umap_categories.html\")"
   ]
  },
  {
   "cell_type": "code",
   "execution_count": 34,
   "id": "c50870af",
   "metadata": {},
   "outputs": [
    {
     "data": {
      "application/vnd.jupyter.widget-view+json": {
       "model_id": "c3a3db8ce7ce4015b6c0daf5af68ff16",
       "version_major": 2,
       "version_minor": 0
      },
      "text/plain": [
       "  0%|          | 0/120 [00:00<?, ?it/s]"
      ]
     },
     "metadata": {},
     "output_type": "display_data"
    }
   ],
   "source": [
    "embeddings_images_dir = metadata_dir / \"mlp_embeddings_images\"\n",
    "embeddings_images_dir.mkdir(parents=True, exist_ok=True)\n",
    "for i in tqdm(range(120)):\n",
    "    embeddings = np.load(embeddings_dir / f\"{str(i).zfill(4)}.npy\")\n",
    "    embeddings_umap = mapping.transform(embeddings)\n",
    "    train_df[\"component_0\"] = embeddings_umap[:,0]\n",
    "    train_df[\"component_1\"] = embeddings_umap[:,1]\n",
    "    fig = px.scatter(\n",
    "        train_df,\n",
    "        x='component_0',\n",
    "        y='component_1',\n",
    "        color='category',\n",
    "        hover_data=['id'],\n",
    "        title=f'UMAP of SimJEB geometries based on MLP embeddings: epoch {i}',\n",
    "        labels={'X': 'umap_component_0', 'Y': 'umap_component_1', 'Type': 'category', 'ID': 'ID'},\n",
    "        range_x=[-4.2,25.6],\n",
    "        range_y=[-6.2,23],\n",
    "    )\n",
    "    fig.write_image(embeddings_images_dir / f\"{str(i).zfill(4)}.png\")"
   ]
  },
  {
   "cell_type": "code",
   "execution_count": 35,
   "id": "699cd685",
   "metadata": {},
   "outputs": [
    {
     "data": {
      "application/vnd.jupyter.widget-view+json": {
       "model_id": "eb134a36908647009963ddf50a594e92",
       "version_major": 2,
       "version_minor": 0
      },
      "text/plain": [
       "  0%|          | 0/119 [00:00<?, ?it/s]"
      ]
     },
     "metadata": {},
     "output_type": "display_data"
    },
    {
     "name": "stderr",
     "output_type": "stream",
     "text": [
      "/tmp/ipykernel_140947/3834476779.py:3: DeprecationWarning:\n",
      "\n",
      "Starting with ImageIO v3 the behavior of this function will switch to that of iio.v3.imread. To keep the current behavior (and make this warning disappear) use `import imageio.v2 as imageio` or call `imageio.v2.imread` directly.\n",
      "\n"
     ]
    }
   ],
   "source": [
    "images = []\n",
    "for j in tqdm(range(i)):\n",
    "    images.append(imageio.imread(embeddings_images_dir / f\"{str(j).zfill(4)}.png\"))\n",
    "imageio.mimsave(embeddings_images_dir / \"umap_embeddings_evolution.gif\", images)"
   ]
  },
  {
   "cell_type": "code",
   "execution_count": 58,
   "id": "34c271f0",
   "metadata": {},
   "outputs": [],
   "source": [
    "pca = PCA(n_components=2)\n",
    "embeddings_pca = pca.fit_transform(intermediate_output.numpy())\n",
    "train_df[\"component_0\"] = embeddings_pca[:,0]\n",
    "train_df[\"component_1\"] = embeddings_pca[:,1]\n",
    "fig = px.scatter(\n",
    "    train_df,\n",
    "    x='component_0',\n",
    "    y='component_1',\n",
    "    color='category',\n",
    "    hover_data=['id'],\n",
    "    title='PCA of SimJEB geometries based on MLP embeddings',\n",
    "    labels={'X': 'component_0', 'Y': 'component_1', 'Type': 'category', 'ID': 'ID'}\n",
    ")\n",
    "\n",
    "# Save the plot to an HTML file\n",
    "fig.write_html(metadata_dir / \"MLP_pca_categories.html\")"
   ]
  },
  {
   "cell_type": "code",
   "execution_count": null,
   "id": "2fb56c11",
   "metadata": {},
   "outputs": [],
   "source": []
  }
 ],
 "metadata": {
  "kernelspec": {
   "display_name": "Python [conda env:dev] *",
   "language": "python",
   "name": "conda-env-dev-py"
  },
  "language_info": {
   "codemirror_mode": {
    "name": "ipython",
    "version": 3
   },
   "file_extension": ".py",
   "mimetype": "text/x-python",
   "name": "python",
   "nbconvert_exporter": "python",
   "pygments_lexer": "ipython3",
   "version": "3.10.6"
  }
 },
 "nbformat": 4,
 "nbformat_minor": 5
}
