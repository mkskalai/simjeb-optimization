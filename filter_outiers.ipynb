{
 "cells": [
  {
   "cell_type": "code",
   "execution_count": 15,
   "id": "669cba16",
   "metadata": {},
   "outputs": [],
   "source": [
    "import os\n",
    "import random\n",
    "from pathlib import Path\n",
    "from tqdm.auto import tqdm\n",
    "import numpy as np\n",
    "import pyvista as pv\n",
    "from matplotlib import pyplot as plt"
   ]
  },
  {
   "cell_type": "code",
   "execution_count": 11,
   "id": "bbb1c225",
   "metadata": {},
   "outputs": [],
   "source": [
    "data_dir = Path(\"/home/max/Desktop/python_projects/SimJeb\")\n",
    "root = data_dir / \"SimJEB_surfmesh\"\n",
    "dest = data_dir / \"SimJEB_sdf\"\n",
    "metadata_dir = data_dir / \"SimJEB_metadata\""
   ]
  },
  {
   "cell_type": "code",
   "execution_count": 24,
   "id": "1bdae2a7",
   "metadata": {},
   "outputs": [],
   "source": [
    "split = 0.85"
   ]
  },
  {
   "cell_type": "code",
   "execution_count": 3,
   "id": "699059b3",
   "metadata": {},
   "outputs": [],
   "source": [
    "paths = []\n",
    "for path in root.glob(\"*.obj\"):\n",
    "    paths.append(path)"
   ]
  },
  {
   "cell_type": "code",
   "execution_count": 4,
   "id": "a37380a9",
   "metadata": {},
   "outputs": [],
   "source": [
    "pv_points_downsample = pv.read(data_dir / \"SimJEB_metadata\" / \"all_points_1M.vtk\")"
   ]
  },
  {
   "cell_type": "code",
   "execution_count": 5,
   "id": "53276085",
   "metadata": {},
   "outputs": [
    {
     "name": "stderr",
     "output_type": "stream",
     "text": [
      "100%|█████████████████████████████████████████| 381/381 [03:14<00:00,  1.96it/s]\n"
     ]
    }
   ],
   "source": [
    "neighbours_distances = []\n",
    "names_list = []\n",
    "for path in tqdm(paths):\n",
    "    mesh = pv.read(path)\n",
    "    mesh = mesh.interpolate(pv_points_downsample)\n",
    "    neighbours_distances.append(np.quantile(mesh[\"neighbours_distance\"], q=0.95))\n",
    "    names_list.append(path.stem)"
   ]
  },
  {
   "cell_type": "code",
   "execution_count": 6,
   "id": "6bad799c",
   "metadata": {},
   "outputs": [
    {
     "data": {
      "image/png": "[encoded data removed]",
      "text/plain": [
       "<Figure size 640x480 with 1 Axes>"
      ]
     },
     "metadata": {},
     "output_type": "display_data"
    }
   ],
   "source": [
    "_ = plt.hist(neighbours_distances, bins=20)"
   ]
  },
  {
   "cell_type": "code",
   "execution_count": 7,
   "id": "1f3278bd",
   "metadata": {},
   "outputs": [],
   "source": [
    "mean, std = np.mean(neighbours_distances), np.std(neighbours_distances)"
   ]
  },
  {
   "cell_type": "code",
   "execution_count": 8,
   "id": "04a43452",
   "metadata": {},
   "outputs": [],
   "source": [
    "outiers_list = [\n",
    "    n for d, n in zip(neighbours_distances, names_list) if np.abs(d - mean) > std\n",
    "]"
   ]
  },
  {
   "cell_type": "code",
   "execution_count": 9,
   "id": "af017e00",
   "metadata": {},
   "outputs": [
    {
     "data": {
      "text/plain": [
       "34"
      ]
     },
     "execution_count": 9,
     "metadata": {},
     "output_type": "execute_result"
    }
   ],
   "source": [
    "len(outiers_list)"
   ]
  },
  {
   "cell_type": "code",
   "execution_count": 10,
   "id": "0bce7519",
   "metadata": {},
   "outputs": [
    {
     "data": {
      "text/plain": [
       "(1.0888479563007156, 0.23418807882920148)"
      ]
     },
     "execution_count": 10,
     "metadata": {},
     "output_type": "execute_result"
    }
   ],
   "source": [
    "mean, std"
   ]
  },
  {
   "cell_type": "code",
   "execution_count": 12,
   "id": "454816bc",
   "metadata": {},
   "outputs": [],
   "source": [
    "with open(metadata_dir / \"outliers.txt\", \"w\") as f:\n",
    "    f.writelines(\"\\n\".join(outiers_list))"
   ]
  },
  {
   "cell_type": "code",
   "execution_count": 13,
   "id": "e9d91883",
   "metadata": {},
   "outputs": [],
   "source": [
    "outiers_set = set(outiers_list)"
   ]
  },
  {
   "cell_type": "code",
   "execution_count": 14,
   "id": "2f4d9704",
   "metadata": {},
   "outputs": [],
   "source": [
    "dataset = [n for n in names_list if n not in outiers_set]"
   ]
  },
  {
   "cell_type": "code",
   "execution_count": 16,
   "id": "082c0cfd",
   "metadata": {},
   "outputs": [],
   "source": [
    "random.shuffle(dataset)"
   ]
  },
  {
   "cell_type": "code",
   "execution_count": 25,
   "id": "661fb3b4",
   "metadata": {},
   "outputs": [],
   "source": [
    "split_int = int(len(dataset) * split)"
   ]
  },
  {
   "cell_type": "code",
   "execution_count": 26,
   "id": "927d374b",
   "metadata": {},
   "outputs": [],
   "source": [
    "train = dataset[:split_int]\n",
    "test = dataset[split_int:]"
   ]
  },
  {
   "cell_type": "code",
   "execution_count": 27,
   "id": "45ed059b",
   "metadata": {},
   "outputs": [],
   "source": [
    "with open(metadata_dir / \"train.txt\", \"w\") as f:\n",
    "    f.writelines(\"\\n\".join(train))"
   ]
  },
  {
   "cell_type": "code",
   "execution_count": 28,
   "id": "d99439ca",
   "metadata": {},
   "outputs": [],
   "source": [
    "with open(metadata_dir / \"test.txt\", \"w\") as f:\n",
    "    f.writelines(\"\\n\".join(test))"
   ]
  },
  {
   "cell_type": "code",
   "execution_count": 29,
   "id": "be5354d7",
   "metadata": {},
   "outputs": [
    {
     "data": {
      "text/plain": [
       "294"
      ]
     },
     "execution_count": 29,
     "metadata": {},
     "output_type": "execute_result"
    }
   ],
   "source": [
    "len(train)"
   ]
  },
  {
   "cell_type": "code",
   "execution_count": 30,
   "id": "5a2a1ac9",
   "metadata": {},
   "outputs": [
    {
     "data": {
      "text/plain": [
       "53"
      ]
     },
     "execution_count": 30,
     "metadata": {},
     "output_type": "execute_result"
    }
   ],
   "source": [
    "len(test)"
   ]
  },
  {
   "cell_type": "code",
   "execution_count": null,
   "id": "a8f9fbef",
   "metadata": {},
   "outputs": [],
   "source": []
  }
 ],
 "metadata": {
  "kernelspec": {
   "display_name": "Python 3 (ipykernel)",
   "language": "python",
   "name": "python3"
  },
  "language_info": {
   "codemirror_mode": {
    "name": "ipython",
    "version": 3
   },
   "file_extension": ".py",
   "mimetype": "text/x-python",
   "name": "python",
   "nbconvert_exporter": "python",
   "pygments_lexer": "ipython3",
   "version": "3.10.6"
  }
 },
 "nbformat": 4,
 "nbformat_minor": 5
}
