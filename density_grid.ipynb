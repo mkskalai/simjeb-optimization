{
 "cells": [
  {
   "cell_type": "code",
   "execution_count": 42,
   "id": "1225eadd",
   "metadata": {},
   "outputs": [],
   "source": [
    "import os\n",
    "from pathlib import Path\n",
    "import pyvista as pv\n",
    "import numpy as np\n",
    "from scipy.spatial import KDTree"
   ]
  },
  {
   "cell_type": "code",
   "execution_count": 2,
   "id": "801f0a37",
   "metadata": {},
   "outputs": [],
   "source": [
    "root_dir = Path(\"/home/max/Desktop/python_projects/SimJeb/\")\n",
    "metadata_dir = root_dir / \"SimJEB_metadata\"\n",
    "meshes_dir = root_dir / \"SimJEB_surfmesh\""
   ]
  },
  {
   "cell_type": "code",
   "execution_count": 4,
   "id": "c216040b",
   "metadata": {},
   "outputs": [],
   "source": [
    "pc = pv.read(metadata_dir / \"all_points_no_outliers_interfaces_2M.vtk\")"
   ]
  },
  {
   "cell_type": "code",
   "execution_count": 75,
   "id": "a32fda7e",
   "metadata": {},
   "outputs": [],
   "source": [
    "n_cells = 500"
   ]
  },
  {
   "cell_type": "code",
   "execution_count": 76,
   "id": "099c7efb",
   "metadata": {},
   "outputs": [],
   "source": [
    "bbox = np.reshape(pc.bounds, (3,2))\n",
    "dims = bbox[:,1] - bbox[:,0]\n",
    "coeff = (n_cells / np.prod(dims)) ** (1/3)\n",
    "bins = (dims * coeff).astype(np.int32)\n",
    "H, edges = np.histogramdd(pc.points, bins=bins)\n",
    "centers = [(e[1:] + e[:-1]) / 2 for e in edges]\n",
    "x, y, z = np.meshgrid(centers[0], centers[1], centers[2], indexing=\"ij\")\n",
    "centroids_hist = np.c_[x.reshape(-1), y.reshape(-1), z.reshape(-1)]"
   ]
  },
  {
   "cell_type": "code",
   "execution_count": 77,
   "id": "da0f60c1",
   "metadata": {},
   "outputs": [],
   "source": [
    "kdt = KDTree(centroids_hist)"
   ]
  },
  {
   "cell_type": "code",
   "execution_count": 80,
   "id": "89e375da",
   "metadata": {},
   "outputs": [],
   "source": [
    "spacing = dims / bins\n",
    "grid = pv.ImageData()\n",
    "grid.dimensions = bins + 1\n",
    "grid.spacing = spacing\n",
    "grid.origin = bbox[:,0]\n",
    "centroids_grid = grid.cell_centers().points\n",
    "_, ii = kdt.query(centroids_grid)\n",
    "num_points = np.array(H).flatten()[ii]\n",
    "grid[\"num_points\"] = num_points"
   ]
  },
  {
   "cell_type": "code",
   "execution_count": 79,
   "id": "30a07bf9",
   "metadata": {},
   "outputs": [],
   "source": [
    "grid.save(metadata_dir / \"density_grid.vtk\")"
   ]
  },
  {
   "cell_type": "code",
   "execution_count": 82,
   "id": "a01cc143",
   "metadata": {},
   "outputs": [],
   "source": [
    "nonzero_num_points = num_points[num_points > 0]\n",
    "grid_interfaces = grid.threshold(np.quantile(nonzero_num_points, 0.9), invert=False)\n",
    "grid_rare = grid.threshold(np.quantile(nonzero_num_points, 0.1), invert=True)\n",
    "grid_interfaces.save(metadata_dir / \"grid_interfaces.vtk\")\n",
    "grid_rare.save(metadata_dir / \"grid_rare.vtk\")"
   ]
  },
  {
   "cell_type": "code",
   "execution_count": 85,
   "id": "fe267e86",
   "metadata": {},
   "outputs": [
    {
     "data": {
      "text/plain": [
       "(384, 122, 30)"
      ]
     },
     "execution_count": 85,
     "metadata": {},
     "output_type": "execute_result"
    }
   ],
   "source": [
    "grid.n_cells, grid_rare.n_cells, grid_interfaces.n_cells"
   ]
  },
  {
   "cell_type": "code",
   "execution_count": null,
   "id": "44ee8542",
   "metadata": {},
   "outputs": [],
   "source": []
  }
 ],
 "metadata": {
  "kernelspec": {
   "display_name": "Python [conda env:dev] *",
   "language": "python",
   "name": "conda-env-dev-py"
  },
  "language_info": {
   "codemirror_mode": {
    "name": "ipython",
    "version": 3
   },
   "file_extension": ".py",
   "mimetype": "text/x-python",
   "name": "python",
   "nbconvert_exporter": "python",
   "pygments_lexer": "ipython3",
   "version": "3.10.6"
  }
 },
 "nbformat": 4,
 "nbformat_minor": 5
}
