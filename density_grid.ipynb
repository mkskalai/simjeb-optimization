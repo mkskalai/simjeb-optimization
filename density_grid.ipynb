{
 "cells": [
  {
   "cell_type": "code",
   "execution_count": 1,
   "id": "72edbc08",
   "metadata": {},
   "outputs": [],
   "source": [
    "import os\n",
    "from pathlib import Path\n",
    "import pyvista as pv\n",
    "import numpy as np\n",
    "from scipy.spatial import KDTree"
   ]
  },
  {
   "cell_type": "code",
   "execution_count": 2,
   "id": "32fa713e",
   "metadata": {},
   "outputs": [],
   "source": [
    "root_dir = Path(\"/home/max/Desktop/python_projects/SimJeb/\")\n",
    "metadata_dir = root_dir / \"SimJEB_metadata\"\n",
    "meshes_dir = root_dir / \"SimJEB_surfmesh\""
   ]
  },
  {
   "cell_type": "code",
   "execution_count": 3,
   "id": "c21f33d4",
   "metadata": {},
   "outputs": [],
   "source": [
    "pc = pv.read(metadata_dir / \"train_volmesh_points_density.vtk\")"
   ]
  },
  {
   "cell_type": "code",
   "execution_count": 4,
   "id": "83739730",
   "metadata": {},
   "outputs": [],
   "source": [
    "n_cells = 500"
   ]
  },
  {
   "cell_type": "code",
   "execution_count": 17,
   "id": "a2420082",
   "metadata": {},
   "outputs": [],
   "source": [
    "bbox = np.reshape(pc.bounds, (3,2))\n",
    "dims = bbox[:,1] - bbox[:,0]\n",
    "coeff = (n_cells / np.prod(dims)) ** (1/3)\n",
    "bins = (dims * coeff).astype(np.int32)\n",
    "if bins[1] % 2 == 0:\n",
    "    bins[1] += 1\n",
    "H, edges = np.histogramdd(pc.points, bins=bins)\n",
    "centers = [(e[1:] + e[:-1]) / 2 for e in edges]\n",
    "x, y, z = np.meshgrid(centers[0], centers[1], centers[2], indexing=\"ij\")\n",
    "centroids_hist = np.c_[x.reshape(-1), y.reshape(-1), z.reshape(-1)]"
   ]
  },
  {
   "cell_type": "code",
   "execution_count": 18,
   "id": "2c38e6f2",
   "metadata": {},
   "outputs": [
    {
     "data": {
      "text/plain": [
       "array([ 8, 13,  4], dtype=int32)"
      ]
     },
     "execution_count": 18,
     "metadata": {},
     "output_type": "execute_result"
    }
   ],
   "source": [
    "bins"
   ]
  },
  {
   "cell_type": "code",
   "execution_count": 19,
   "id": "67f13d1c",
   "metadata": {},
   "outputs": [],
   "source": [
    "kdt = KDTree(centroids_hist)"
   ]
  },
  {
   "cell_type": "code",
   "execution_count": 20,
   "id": "c8b5f86a",
   "metadata": {},
   "outputs": [],
   "source": [
    "spacing = dims / bins\n",
    "grid = pv.ImageData()\n",
    "grid.dimensions = bins + 1\n",
    "grid.spacing = spacing\n",
    "grid.origin = bbox[:,0]\n",
    "centroids_grid = grid.cell_centers().points\n",
    "_, ii = kdt.query(centroids_grid)\n",
    "num_points = np.array(H).flatten()[ii]\n",
    "grid[\"num_points\"] = num_points"
   ]
  },
  {
   "cell_type": "code",
   "execution_count": 21,
   "id": "d2e0cb4e",
   "metadata": {},
   "outputs": [],
   "source": [
    "grid.save(metadata_dir / \"density_grid.vtk\")"
   ]
  },
  {
   "cell_type": "code",
   "execution_count": 22,
   "id": "6a18c2e3",
   "metadata": {},
   "outputs": [],
   "source": [
    "nonzero_num_points = num_points[num_points > 0]\n",
    "q = 0.7\n",
    "grid_interfaces = grid.threshold(np.quantile(nonzero_num_points, q), invert=False)\n",
    "grid_rare = grid.threshold(np.quantile(nonzero_num_points, q), invert=True).threshold(1e-5, invert=False)\n",
    "grid_interfaces.save(metadata_dir / \"grid_interfaces.vtk\")\n",
    "grid_rare.save(metadata_dir / \"grid_rare.vtk\")"
   ]
  },
  {
   "cell_type": "code",
   "execution_count": 23,
   "id": "14b03a69",
   "metadata": {},
   "outputs": [
    {
     "data": {
      "text/plain": [
       "(416, 199, 86)"
      ]
     },
     "execution_count": 23,
     "metadata": {},
     "output_type": "execute_result"
    }
   ],
   "source": [
    "grid.n_cells, grid_rare.n_cells, grid_interfaces.n_cells,"
   ]
  },
  {
   "cell_type": "code",
   "execution_count": null,
   "id": "55254494",
   "metadata": {},
   "outputs": [],
   "source": []
  }
 ],
 "metadata": {
  "kernelspec": {
   "display_name": "Python [conda env:dev] *",
   "language": "python",
   "name": "conda-env-dev-py"
  },
  "language_info": {
   "codemirror_mode": {
    "name": "ipython",
    "version": 3
   },
   "file_extension": ".py",
   "mimetype": "text/x-python",
   "name": "python",
   "nbconvert_exporter": "python",
   "pygments_lexer": "ipython3",
   "version": "3.10.6"
  }
 },
 "nbformat": 4,
 "nbformat_minor": 5
}
