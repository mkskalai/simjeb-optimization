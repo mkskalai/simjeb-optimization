{
 "cells": [
  {
   "cell_type": "code",
   "execution_count": 1,
   "id": "c4b31aab",
   "metadata": {},
   "outputs": [],
   "source": [
    "import os\n",
    "import numpy as np\n",
    "from pathlib import Path\n",
    "import pyvista as pv"
   ]
  },
  {
   "cell_type": "code",
   "execution_count": 5,
   "id": "43cfb004",
   "metadata": {},
   "outputs": [],
   "source": [
    "cyl_large = pv.Cylinder(center=[-21,-90,44], radius=15, direction=[0,1,0], height=20)"
   ]
  },
  {
   "cell_type": "code",
   "execution_count": 6,
   "id": "598c5d32",
   "metadata": {},
   "outputs": [],
   "source": [
    "cyl_large.save(\"/home/max/Desktop/python_projects/SimJeb/SimJEB_metadata/cylinder_horizontal_large.stl\")"
   ]
  },
  {
   "cell_type": "code",
   "execution_count": 8,
   "id": "8aeecc0b",
   "metadata": {},
   "outputs": [],
   "source": [
    "mesh = pv.read(\"/home/max/Desktop/python_projects/SimJeb/SimJEB_surfmesh/0.obj\")"
   ]
  },
  {
   "cell_type": "code",
   "execution_count": 11,
   "id": "32614772",
   "metadata": {},
   "outputs": [],
   "source": [
    "clipped = cyl_large.clip_surface(mesh, True)"
   ]
  },
  {
   "cell_type": "code",
   "execution_count": 13,
   "id": "31528141",
   "metadata": {},
   "outputs": [
    {
     "data": {
      "text/html": [
       "<table style='width: 100%;'><tr><th>Header</th><th>Data Arrays</th></tr><tr><td>\n",
       "<table style='width: 100%;'>\n",
       "<tr><th>PolyData</th><th>Information</th></tr>\n",
       "<tr><td>N Cells</td><td>0</td></tr>\n",
       "<tr><td>N Points</td><td>0</td></tr>\n",
       "<tr><td>N Strips</td><td>0</td></tr>\n",
       "<tr><td>X Bounds</td><td>1.000e+299, -1.000e+299</td></tr>\n",
       "<tr><td>Y Bounds</td><td>1.000e+299, -1.000e+299</td></tr>\n",
       "<tr><td>Z Bounds</td><td>1.000e+299, -1.000e+299</td></tr>\n",
       "<tr><td>N Arrays</td><td>3</td></tr>\n",
       "</table>\n",
       "\n",
       "</td><td>\n",
       "<table style='width: 100%;'>\n",
       "<tr><th>Name</th><th>Field</th><th>Type</th><th>N Comp</th><th>Min</th><th>Max</th></tr>\n",
       "<tr><td>TCoords</td><td>Points</td><td>float32</td><td>2</td><td>nan</td><td>nan</td></tr>\n",
       "<tr><td>Normals</td><td>Points</td><td>float32</td><td>3</td><td>nan</td><td>nan</td></tr>\n",
       "<tr><td>Normals</td><td>Cells</td><td>float32</td><td>3</td><td>nan</td><td>nan</td></tr>\n",
       "</table>\n",
       "\n",
       "</td></tr> </table>"
      ],
      "text/plain": [
       "PolyData (0x7f5c13801cc0)\n",
       "  N Cells:    0\n",
       "  N Points:   0\n",
       "  N Strips:   0\n",
       "  X Bounds:   1.000e+299, -1.000e+299\n",
       "  Y Bounds:   1.000e+299, -1.000e+299\n",
       "  Z Bounds:   1.000e+299, -1.000e+299\n",
       "  N Arrays:   3"
      ]
     },
     "execution_count": 13,
     "metadata": {},
     "output_type": "execute_result"
    }
   ],
   "source": [
    "clipped"
   ]
  },
  {
   "cell_type": "code",
   "execution_count": null,
   "id": "f8d424c0",
   "metadata": {},
   "outputs": [],
   "source": []
  }
 ],
 "metadata": {
  "kernelspec": {
   "display_name": "Python [conda env:dev] *",
   "language": "python",
   "name": "conda-env-dev-py"
  },
  "language_info": {
   "codemirror_mode": {
    "name": "ipython",
    "version": 3
   },
   "file_extension": ".py",
   "mimetype": "text/x-python",
   "name": "python",
   "nbconvert_exporter": "python",
   "pygments_lexer": "ipython3",
   "version": "3.10.6"
  }
 },
 "nbformat": 4,
 "nbformat_minor": 5
}
