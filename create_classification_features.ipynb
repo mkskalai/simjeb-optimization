{
 "cells": [
  {
   "cell_type": "code",
   "execution_count": 1,
   "id": "dcd45967",
   "metadata": {},
   "outputs": [],
   "source": [
    "%load_ext autoreload\n",
    "%autoreload 2\n",
    "import os\n",
    "from pathlib import Path\n",
    "import numpy as np\n",
    "import pandas as pd\n",
    "import pyvista as pv\n",
    "from tqdm.auto import tqdm\n",
    "from sklearn.ensemble import RandomForestClassifier\n",
    "from sklearn import preprocessing\n",
    "from sklearn.metrics import accuracy_score"
   ]
  },
  {
   "cell_type": "code",
   "execution_count": 2,
   "id": "f01d8fd5",
   "metadata": {},
   "outputs": [],
   "source": [
    "root_dir = Path(\"/home/max/Desktop/python_projects/SimJeb/\")\n",
    "metadata_dir = root_dir / \"SimJEB_metadata\"\n",
    "meshes_dir = root_dir / \"SimJEB_volmesh\""
   ]
  },
  {
   "cell_type": "code",
   "execution_count": 17,
   "id": "cacb4285",
   "metadata": {},
   "outputs": [],
   "source": [
    "features_grid = pv.read(metadata_dir / \"grid_rare.vtk\")"
   ]
  },
  {
   "cell_type": "code",
   "execution_count": 27,
   "id": "5debfbb7",
   "metadata": {},
   "outputs": [
    {
     "data": {
      "application/vnd.jupyter.widget-view+json": {
       "model_id": "b546c5f7478f4ebeb1969be685515a19",
       "version_major": 2,
       "version_minor": 0
      },
      "text/plain": [
       "  0%|          | 0/83 [00:00<?, ?it/s]"
      ]
     },
     "metadata": {},
     "output_type": "display_data"
    }
   ],
   "source": [
    "for ds in [\"train\", \"test\"]:\n",
    "    df = pd.read_csv(metadata_dir / f\"{ds}_bracket_metadata.csv\")\n",
    "    category_df = df[\"category\"]\n",
    "    features = []\n",
    "    for id_ in tqdm(df[\"id\"]):\n",
    "        mesh = pv.read(meshes_dir / f\"{str(id_)}.vtk\")\n",
    "        cell_ids = features_grid.find_containing_cell(mesh.points)\n",
    "        cell_ids = cell_ids[cell_ids >= 0]\n",
    "        features_tmp = np.zeros((features_grid.n_cells,))\n",
    "        features_tmp[cell_ids] = 1\n",
    "        features_tmp_dict = {f\"feature/{i}\": features_tmp[i] for i in range(len(features_tmp))}\n",
    "        features_tmp_dict[\"id\"] = id_\n",
    "        features.append(features_tmp_dict)\n",
    "    features_df = pd.DataFrame(features)\n",
    "    category_df = pd.DataFrame(category_df).join(features_df)\n",
    "    category_df.to_csv(metadata_dir / f\"{ds}_bracket_category.csv\")"
   ]
  },
  {
   "cell_type": "code",
   "execution_count": 3,
   "id": "c296766d",
   "metadata": {},
   "outputs": [],
   "source": [
    "train_df = pd.read_csv(metadata_dir / \"train_bracket_category.csv\")"
   ]
  },
  {
   "cell_type": "code",
   "execution_count": 4,
   "id": "bd7c0847",
   "metadata": {},
   "outputs": [
    {
     "data": {
      "text/html": [
       "<div>\n",
       "<style scoped>\n",
       "    .dataframe tbody tr th:only-of-type {\n",
       "        vertical-align: middle;\n",
       "    }\n",
       "\n",
       "    .dataframe tbody tr th {\n",
       "        vertical-align: top;\n",
       "    }\n",
       "\n",
       "    .dataframe thead th {\n",
       "        text-align: right;\n",
       "    }\n",
       "</style>\n",
       "<table border=\"1\" class=\"dataframe\">\n",
       "  <thead>\n",
       "    <tr style=\"text-align: right;\">\n",
       "      <th></th>\n",
       "      <th>Unnamed: 0</th>\n",
       "      <th>category</th>\n",
       "      <th>feature/0</th>\n",
       "      <th>feature/1</th>\n",
       "      <th>feature/2</th>\n",
       "      <th>feature/3</th>\n",
       "      <th>feature/4</th>\n",
       "      <th>feature/5</th>\n",
       "      <th>feature/6</th>\n",
       "      <th>feature/7</th>\n",
       "      <th>...</th>\n",
       "      <th>feature/190</th>\n",
       "      <th>feature/191</th>\n",
       "      <th>feature/192</th>\n",
       "      <th>feature/193</th>\n",
       "      <th>feature/194</th>\n",
       "      <th>feature/195</th>\n",
       "      <th>feature/196</th>\n",
       "      <th>feature/197</th>\n",
       "      <th>feature/198</th>\n",
       "      <th>id</th>\n",
       "    </tr>\n",
       "  </thead>\n",
       "  <tbody>\n",
       "    <tr>\n",
       "      <th>0</th>\n",
       "      <td>0</td>\n",
       "      <td>flat</td>\n",
       "      <td>1.0</td>\n",
       "      <td>1.0</td>\n",
       "      <td>1.0</td>\n",
       "      <td>0.0</td>\n",
       "      <td>0.0</td>\n",
       "      <td>0.0</td>\n",
       "      <td>1.0</td>\n",
       "      <td>0.0</td>\n",
       "      <td>...</td>\n",
       "      <td>0.0</td>\n",
       "      <td>0.0</td>\n",
       "      <td>0.0</td>\n",
       "      <td>0.0</td>\n",
       "      <td>0.0</td>\n",
       "      <td>0.0</td>\n",
       "      <td>0.0</td>\n",
       "      <td>0.0</td>\n",
       "      <td>0.0</td>\n",
       "      <td>241</td>\n",
       "    </tr>\n",
       "    <tr>\n",
       "      <th>1</th>\n",
       "      <td>1</td>\n",
       "      <td>block</td>\n",
       "      <td>1.0</td>\n",
       "      <td>1.0</td>\n",
       "      <td>1.0</td>\n",
       "      <td>0.0</td>\n",
       "      <td>1.0</td>\n",
       "      <td>0.0</td>\n",
       "      <td>1.0</td>\n",
       "      <td>1.0</td>\n",
       "      <td>...</td>\n",
       "      <td>0.0</td>\n",
       "      <td>0.0</td>\n",
       "      <td>0.0</td>\n",
       "      <td>0.0</td>\n",
       "      <td>1.0</td>\n",
       "      <td>0.0</td>\n",
       "      <td>0.0</td>\n",
       "      <td>0.0</td>\n",
       "      <td>0.0</td>\n",
       "      <td>281</td>\n",
       "    </tr>\n",
       "    <tr>\n",
       "      <th>2</th>\n",
       "      <td>2</td>\n",
       "      <td>block</td>\n",
       "      <td>1.0</td>\n",
       "      <td>1.0</td>\n",
       "      <td>1.0</td>\n",
       "      <td>0.0</td>\n",
       "      <td>1.0</td>\n",
       "      <td>0.0</td>\n",
       "      <td>1.0</td>\n",
       "      <td>1.0</td>\n",
       "      <td>...</td>\n",
       "      <td>0.0</td>\n",
       "      <td>0.0</td>\n",
       "      <td>0.0</td>\n",
       "      <td>0.0</td>\n",
       "      <td>1.0</td>\n",
       "      <td>0.0</td>\n",
       "      <td>0.0</td>\n",
       "      <td>0.0</td>\n",
       "      <td>0.0</td>\n",
       "      <td>170</td>\n",
       "    </tr>\n",
       "    <tr>\n",
       "      <th>3</th>\n",
       "      <td>3</td>\n",
       "      <td>flat</td>\n",
       "      <td>1.0</td>\n",
       "      <td>1.0</td>\n",
       "      <td>1.0</td>\n",
       "      <td>0.0</td>\n",
       "      <td>1.0</td>\n",
       "      <td>0.0</td>\n",
       "      <td>1.0</td>\n",
       "      <td>0.0</td>\n",
       "      <td>...</td>\n",
       "      <td>0.0</td>\n",
       "      <td>0.0</td>\n",
       "      <td>0.0</td>\n",
       "      <td>0.0</td>\n",
       "      <td>1.0</td>\n",
       "      <td>0.0</td>\n",
       "      <td>0.0</td>\n",
       "      <td>0.0</td>\n",
       "      <td>0.0</td>\n",
       "      <td>194</td>\n",
       "    </tr>\n",
       "    <tr>\n",
       "      <th>4</th>\n",
       "      <td>4</td>\n",
       "      <td>butterfly</td>\n",
       "      <td>1.0</td>\n",
       "      <td>1.0</td>\n",
       "      <td>1.0</td>\n",
       "      <td>0.0</td>\n",
       "      <td>0.0</td>\n",
       "      <td>0.0</td>\n",
       "      <td>1.0</td>\n",
       "      <td>0.0</td>\n",
       "      <td>...</td>\n",
       "      <td>0.0</td>\n",
       "      <td>0.0</td>\n",
       "      <td>0.0</td>\n",
       "      <td>0.0</td>\n",
       "      <td>0.0</td>\n",
       "      <td>0.0</td>\n",
       "      <td>0.0</td>\n",
       "      <td>0.0</td>\n",
       "      <td>0.0</td>\n",
       "      <td>497</td>\n",
       "    </tr>\n",
       "  </tbody>\n",
       "</table>\n",
       "<p>5 rows × 202 columns</p>\n",
       "</div>"
      ],
      "text/plain": [
       "   Unnamed: 0   category  feature/0  feature/1  feature/2  feature/3  \\\n",
       "0           0       flat        1.0        1.0        1.0        0.0   \n",
       "1           1      block        1.0        1.0        1.0        0.0   \n",
       "2           2      block        1.0        1.0        1.0        0.0   \n",
       "3           3       flat        1.0        1.0        1.0        0.0   \n",
       "4           4  butterfly        1.0        1.0        1.0        0.0   \n",
       "\n",
       "   feature/4  feature/5  feature/6  feature/7  ...  feature/190  feature/191  \\\n",
       "0        0.0        0.0        1.0        0.0  ...          0.0          0.0   \n",
       "1        1.0        0.0        1.0        1.0  ...          0.0          0.0   \n",
       "2        1.0        0.0        1.0        1.0  ...          0.0          0.0   \n",
       "3        1.0        0.0        1.0        0.0  ...          0.0          0.0   \n",
       "4        0.0        0.0        1.0        0.0  ...          0.0          0.0   \n",
       "\n",
       "   feature/192  feature/193  feature/194  feature/195  feature/196  \\\n",
       "0          0.0          0.0          0.0          0.0          0.0   \n",
       "1          0.0          0.0          1.0          0.0          0.0   \n",
       "2          0.0          0.0          1.0          0.0          0.0   \n",
       "3          0.0          0.0          1.0          0.0          0.0   \n",
       "4          0.0          0.0          0.0          0.0          0.0   \n",
       "\n",
       "   feature/197  feature/198   id  \n",
       "0          0.0          0.0  241  \n",
       "1          0.0          0.0  281  \n",
       "2          0.0          0.0  170  \n",
       "3          0.0          0.0  194  \n",
       "4          0.0          0.0  497  \n",
       "\n",
       "[5 rows x 202 columns]"
      ]
     },
     "execution_count": 4,
     "metadata": {},
     "output_type": "execute_result"
    }
   ],
   "source": [
    "train_df.head()"
   ]
  },
  {
   "cell_type": "code",
   "execution_count": 4,
   "id": "421f6f73",
   "metadata": {},
   "outputs": [],
   "source": [
    "le = preprocessing.LabelEncoder()\n",
    "le.fit(train_df.category)\n",
    "y_train = le.transform(train_df.category)"
   ]
  },
  {
   "cell_type": "code",
   "execution_count": 5,
   "id": "dfc80341",
   "metadata": {},
   "outputs": [
    {
     "data": {
      "text/plain": [
       "(247,)"
      ]
     },
     "execution_count": 5,
     "metadata": {},
     "output_type": "execute_result"
    }
   ],
   "source": [
    "y_train.shape"
   ]
  },
  {
   "cell_type": "code",
   "execution_count": 6,
   "id": "95cda96f",
   "metadata": {},
   "outputs": [
    {
     "data": {
      "text/plain": [
       "6"
      ]
     },
     "execution_count": 6,
     "metadata": {},
     "output_type": "execute_result"
    }
   ],
   "source": [
    "len(np.unique(y_train))"
   ]
  },
  {
   "cell_type": "code",
   "execution_count": 15,
   "id": "9906e901",
   "metadata": {},
   "outputs": [
    {
     "name": "stderr",
     "output_type": "stream",
     "text": [
      "[autoreload of numpy.lib.ufunclike failed: Traceback (most recent call last):\n",
      "  File \"/home/max/miniconda3/envs/dev/lib/python3.10/site-packages/IPython/extensions/autoreload.py\", line 257, in check\n",
      "    superreload(m, reload, self.old_objects)\n",
      "  File \"/home/max/miniconda3/envs/dev/lib/python3.10/site-packages/IPython/extensions/autoreload.py\", line 480, in superreload\n",
      "    update_generic(old_obj, new_obj)\n",
      "  File \"/home/max/miniconda3/envs/dev/lib/python3.10/site-packages/IPython/extensions/autoreload.py\", line 377, in update_generic\n",
      "    update(a, b)\n",
      "  File \"/home/max/miniconda3/envs/dev/lib/python3.10/site-packages/IPython/extensions/autoreload.py\", line 289, in update_function\n",
      "    setattr(old, name, getattr(new, name))\n",
      "ValueError: _dispatcher() requires a code object with 0 free vars, not 1\n",
      "]\n",
      "[autoreload of numpy.matrixlib failed: Traceback (most recent call last):\n",
      "  File \"/home/max/miniconda3/envs/dev/lib/python3.10/site-packages/IPython/extensions/autoreload.py\", line 257, in check\n",
      "    superreload(m, reload, self.old_objects)\n",
      "  File \"/home/max/miniconda3/envs/dev/lib/python3.10/site-packages/IPython/extensions/autoreload.py\", line 455, in superreload\n",
      "    module = reload(module)\n",
      "  File \"/home/max/miniconda3/envs/dev/lib/python3.10/importlib/__init__.py\", line 169, in reload\n",
      "    _bootstrap._exec(spec, module)\n",
      "  File \"<frozen importlib._bootstrap>\", line 619, in _exec\n",
      "  File \"<frozen importlib._bootstrap_external>\", line 883, in exec_module\n",
      "  File \"<frozen importlib._bootstrap>\", line 241, in _call_with_frames_removed\n",
      "  File \"/home/max/miniconda3/envs/dev/lib/python3.10/site-packages/numpy/matrixlib/__init__.py\", line 6, in <module>\n",
      "    __all__ = defmatrix.__all__\n",
      "NameError: name 'defmatrix' is not defined\n",
      "]\n",
      "[autoreload of numpy.lib failed: Traceback (most recent call last):\n",
      "  File \"/home/max/miniconda3/envs/dev/lib/python3.10/site-packages/IPython/extensions/autoreload.py\", line 257, in check\n",
      "    superreload(m, reload, self.old_objects)\n",
      "  File \"/home/max/miniconda3/envs/dev/lib/python3.10/site-packages/IPython/extensions/autoreload.py\", line 455, in superreload\n",
      "    module = reload(module)\n",
      "  File \"/home/max/miniconda3/envs/dev/lib/python3.10/importlib/__init__.py\", line 169, in reload\n",
      "    _bootstrap._exec(spec, module)\n",
      "  File \"<frozen importlib._bootstrap>\", line 619, in _exec\n",
      "  File \"<frozen importlib._bootstrap_external>\", line 883, in exec_module\n",
      "  File \"<frozen importlib._bootstrap>\", line 241, in _call_with_frames_removed\n",
      "  File \"/home/max/miniconda3/envs/dev/lib/python3.10/site-packages/numpy/lib/__init__.py\", line 44, in <module>\n",
      "    __all__ += type_check.__all__\n",
      "NameError: name 'type_check' is not defined\n",
      "]\n",
      "[autoreload of numpy.ma.core failed: Traceback (most recent call last):\n",
      "  File \"/home/max/miniconda3/envs/dev/lib/python3.10/site-packages/IPython/extensions/autoreload.py\", line 257, in check\n",
      "    superreload(m, reload, self.old_objects)\n",
      "  File \"/home/max/miniconda3/envs/dev/lib/python3.10/site-packages/IPython/extensions/autoreload.py\", line 480, in superreload\n",
      "    update_generic(old_obj, new_obj)\n",
      "  File \"/home/max/miniconda3/envs/dev/lib/python3.10/site-packages/IPython/extensions/autoreload.py\", line 377, in update_generic\n",
      "    update(a, b)\n",
      "  File \"/home/max/miniconda3/envs/dev/lib/python3.10/site-packages/IPython/extensions/autoreload.py\", line 329, in update_class\n",
      "    if update_generic(old_obj, new_obj):\n",
      "  File \"/home/max/miniconda3/envs/dev/lib/python3.10/site-packages/IPython/extensions/autoreload.py\", line 377, in update_generic\n",
      "    update(a, b)\n",
      "  File \"/home/max/miniconda3/envs/dev/lib/python3.10/site-packages/IPython/extensions/autoreload.py\", line 289, in update_function\n",
      "    setattr(old, name, getattr(new, name))\n",
      "ValueError: __setitem__() requires a code object with 2 free vars, not 0\n",
      "]\n",
      "[autoreload of numpy failed: Traceback (most recent call last):\n",
      "  File \"/home/max/miniconda3/envs/dev/lib/python3.10/site-packages/IPython/extensions/autoreload.py\", line 257, in check\n",
      "    superreload(m, reload, self.old_objects)\n",
      "  File \"/home/max/miniconda3/envs/dev/lib/python3.10/site-packages/IPython/extensions/autoreload.py\", line 455, in superreload\n",
      "    module = reload(module)\n",
      "  File \"/home/max/miniconda3/envs/dev/lib/python3.10/importlib/__init__.py\", line 169, in reload\n",
      "    _bootstrap._exec(spec, module)\n",
      "  File \"<frozen importlib._bootstrap>\", line 619, in _exec\n",
      "  File \"<frozen importlib._bootstrap_external>\", line 883, in exec_module\n",
      "  File \"<frozen importlib._bootstrap>\", line 241, in _call_with_frames_removed\n",
      "  File \"/home/max/miniconda3/envs/dev/lib/python3.10/site-packages/numpy/__init__.py\", line 191, in <module>\n",
      "    core.numerictypes.typeDict,\n",
      "  File \"/home/max/miniconda3/envs/dev/lib/python3.10/site-packages/numpy/core/__init__.py\", line 161, in __getattr__\n",
      "    raise AttributeError(f\"Module {__name__!r} has no attribute {name!r}\")\n",
      "AttributeError: Module 'numpy.core' has no attribute 'numerictypes'\n",
      "]\n",
      "[autoreload of numpy.testing._private.utils failed: Traceback (most recent call last):\n",
      "  File \"/home/max/miniconda3/envs/dev/lib/python3.10/site-packages/IPython/extensions/autoreload.py\", line 257, in check\n",
      "    superreload(m, reload, self.old_objects)\n",
      "  File \"/home/max/miniconda3/envs/dev/lib/python3.10/site-packages/IPython/extensions/autoreload.py\", line 455, in superreload\n",
      "    module = reload(module)\n",
      "  File \"/home/max/miniconda3/envs/dev/lib/python3.10/importlib/__init__.py\", line 169, in reload\n",
      "    _bootstrap._exec(spec, module)\n",
      "  File \"<frozen importlib._bootstrap>\", line 619, in _exec\n",
      "  File \"<frozen importlib._bootstrap_external>\", line 883, in exec_module\n",
      "  File \"<frozen importlib._bootstrap>\", line 241, in _call_with_frames_removed\n",
      "  File \"/home/max/miniconda3/envs/dev/lib/python3.10/site-packages/numpy/testing/_private/utils.py\", line 53, in <module>\n",
      "    HAS_LAPACK64 = numpy.linalg.lapack_lite._ilp64\n",
      "AttributeError: module 'numpy.linalg' has no attribute 'lapack_lite'\n",
      "]\n",
      "[autoreload of numpy.testing failed: Traceback (most recent call last):\n",
      "  File \"/home/max/miniconda3/envs/dev/lib/python3.10/site-packages/IPython/extensions/autoreload.py\", line 257, in check\n",
      "    superreload(m, reload, self.old_objects)\n",
      "  File \"/home/max/miniconda3/envs/dev/lib/python3.10/site-packages/IPython/extensions/autoreload.py\", line 455, in superreload\n",
      "    module = reload(module)\n",
      "  File \"/home/max/miniconda3/envs/dev/lib/python3.10/importlib/__init__.py\", line 169, in reload\n",
      "    _bootstrap._exec(spec, module)\n",
      "  File \"<frozen importlib._bootstrap>\", line 619, in _exec\n",
      "  File \"<frozen importlib._bootstrap_external>\", line 883, in exec_module\n",
      "  File \"<frozen importlib._bootstrap>\", line 241, in _call_with_frames_removed\n",
      "  File \"/home/max/miniconda3/envs/dev/lib/python3.10/site-packages/numpy/testing/__init__.py\", line 17, in <module>\n",
      "    __all__ = _private.utils.__all__ + ['TestCase', 'run_module_suite']\n",
      "NameError: name '_private' is not defined\n",
      "]\n"
     ]
    },
    {
     "data": {
      "text/plain": [
       "array([4, 2, 2, 4, 3, 4, 2, 0, 1, 2, 1, 1, 4, 4, 0, 4, 2, 1, 4, 1, 4, 1,\n",
       "       2, 3, 4, 3, 2, 2, 4, 3, 0, 0, 1, 4, 4, 1, 2, 3, 2, 2, 2, 1, 4, 4,\n",
       "       4, 4, 4, 4, 1, 4, 4, 2, 2, 4, 0, 4, 4, 4, 2, 2, 1, 0, 0, 4, 2, 2,\n",
       "       4, 4, 3, 4, 2, 0, 2, 4, 4, 4, 1, 3, 0, 0, 3, 2, 4, 3, 2, 2, 1, 2,\n",
       "       2, 5, 0, 4, 3, 5, 4, 4, 4, 0, 5, 0, 4, 2, 4, 4, 3, 4, 2, 0, 4, 4,\n",
       "       2, 2, 4, 4, 1, 1, 4, 0, 0, 1, 2, 2, 2, 4, 1, 4, 2, 1, 3, 0, 3, 2,\n",
       "       2, 3, 4, 2, 2, 2, 4, 1, 4, 4, 0, 2, 4, 4, 2, 2, 0, 0, 4, 2, 2, 2,\n",
       "       4, 4, 2, 4, 2, 2, 4, 2, 2, 3, 3, 2, 3, 1, 1, 4, 5, 4, 0, 2, 2, 0,\n",
       "       4, 2, 2, 2, 4, 2, 4, 1, 4, 2, 2, 1, 4, 3, 4, 4, 2, 2, 3, 4, 1, 4,\n",
       "       3, 2, 0, 3, 4, 1, 3, 4, 0, 1, 2, 4, 4, 1, 2, 4, 4, 2, 4, 3, 0, 4,\n",
       "       4, 1, 4, 2, 2, 1, 4, 2, 3, 3, 2, 4, 3, 4, 4, 4, 2, 4, 1, 3, 4, 3,\n",
       "       4, 2, 2, 3, 4])"
      ]
     },
     "execution_count": 15,
     "metadata": {},
     "output_type": "execute_result"
    }
   ],
   "source": [
    "y_train"
   ]
  },
  {
   "cell_type": "code",
   "execution_count": 7,
   "id": "8cca88f9",
   "metadata": {},
   "outputs": [],
   "source": [
    "X_train = train_df.iloc[:,2:201].to_numpy()"
   ]
  },
  {
   "cell_type": "code",
   "execution_count": 8,
   "id": "dd98517c",
   "metadata": {},
   "outputs": [
    {
     "data": {
      "text/plain": [
       "(247, 199)"
      ]
     },
     "execution_count": 8,
     "metadata": {},
     "output_type": "execute_result"
    }
   ],
   "source": [
    "X_train.shape"
   ]
  },
  {
   "cell_type": "code",
   "execution_count": 9,
   "id": "2efd0b56",
   "metadata": {},
   "outputs": [],
   "source": [
    "clf = RandomForestClassifier()\n",
    "estimator = clf.fit(X_train, y_train)"
   ]
  },
  {
   "cell_type": "code",
   "execution_count": 10,
   "id": "6849be95",
   "metadata": {},
   "outputs": [],
   "source": [
    "test_df = pd.read_csv(metadata_dir / \"test_bracket_category.csv\")"
   ]
  },
  {
   "cell_type": "code",
   "execution_count": 11,
   "id": "01791109",
   "metadata": {},
   "outputs": [],
   "source": [
    "X_test = test_df.iloc[:,2:201].to_numpy()\n",
    "y_test = le.transform(test_df.category)"
   ]
  },
  {
   "cell_type": "code",
   "execution_count": 12,
   "id": "80e467d8",
   "metadata": {},
   "outputs": [],
   "source": [
    "y_test_pred = estimator.predict(X_test)"
   ]
  },
  {
   "cell_type": "code",
   "execution_count": 13,
   "id": "bab5e3e5",
   "metadata": {},
   "outputs": [
    {
     "data": {
      "text/plain": [
       "0.7349397590361446"
      ]
     },
     "execution_count": 13,
     "metadata": {},
     "output_type": "execute_result"
    }
   ],
   "source": [
    "accuracy_score(y_test, y_test_pred)"
   ]
  },
  {
   "cell_type": "code",
   "execution_count": null,
   "id": "cd89592a",
   "metadata": {},
   "outputs": [],
   "source": []
  }
 ],
 "metadata": {
  "kernelspec": {
   "display_name": "Python [conda env:dev] *",
   "language": "python",
   "name": "conda-env-dev-py"
  },
  "language_info": {
   "codemirror_mode": {
    "name": "ipython",
    "version": 3
   },
   "file_extension": ".py",
   "mimetype": "text/x-python",
   "name": "python",
   "nbconvert_exporter": "python",
   "pygments_lexer": "ipython3",
   "version": "3.10.6"
  }
 },
 "nbformat": 4,
 "nbformat_minor": 5
}
