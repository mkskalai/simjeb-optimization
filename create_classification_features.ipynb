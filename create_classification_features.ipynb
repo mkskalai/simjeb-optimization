{
 "cells": [
  {
   "cell_type": "code",
   "execution_count": 70,
   "id": "dcd45967",
   "metadata": {},
   "outputs": [
    {
     "name": "stdout",
     "output_type": "stream",
     "text": [
      "The autoreload extension is already loaded. To reload it, use:\n",
      "  %reload_ext autoreload\n"
     ]
    }
   ],
   "source": [
    "%load_ext autoreload\n",
    "%autoreload 2\n",
    "import os\n",
    "from pathlib import Path\n",
    "import numpy as np\n",
    "import pandas as pd\n",
    "import pyvista as pv\n",
    "from tqdm.auto import tqdm\n",
    "from sklearn.ensemble import RandomForestClassifier\n",
    "from sklearn import preprocessing\n",
    "from sklearn.metrics import accuracy_score"
   ]
  },
  {
   "cell_type": "code",
   "execution_count": 2,
   "id": "f01d8fd5",
   "metadata": {},
   "outputs": [],
   "source": [
    "root_dir = Path(\"/home/max/Desktop/python_projects/SimJeb/\")\n",
    "metadata_dir = root_dir / \"SimJEB_metadata\"\n",
    "meshes_dir = root_dir / \"SimJEB_volmesh\""
   ]
  },
  {
   "cell_type": "code",
   "execution_count": 17,
   "id": "cacb4285",
   "metadata": {},
   "outputs": [],
   "source": [
    "features_grid = pv.read(metadata_dir / \"grid_rare.vtk\")"
   ]
  },
  {
   "cell_type": "code",
   "execution_count": 27,
   "id": "5debfbb7",
   "metadata": {},
   "outputs": [
    {
     "data": {
      "application/vnd.jupyter.widget-view+json": {
       "model_id": "b546c5f7478f4ebeb1969be685515a19",
       "version_major": 2,
       "version_minor": 0
      },
      "text/plain": [
       "  0%|          | 0/83 [00:00<?, ?it/s]"
      ]
     },
     "metadata": {},
     "output_type": "display_data"
    }
   ],
   "source": [
    "for ds in [\"train\", \"test\"]:\n",
    "    df = pd.read_csv(metadata_dir / f\"{ds}_bracket_metadata.csv\")\n",
    "    category_df = df[\"category\"]\n",
    "    features = []\n",
    "    for id_ in tqdm(df[\"id\"]):\n",
    "        mesh = pv.read(meshes_dir / f\"{str(id_)}.vtk\")\n",
    "        cell_ids = features_grid.find_containing_cell(mesh.points)\n",
    "        cell_ids = cell_ids[cell_ids >= 0]\n",
    "        features_tmp = np.zeros((features_grid.n_cells,))\n",
    "        features_tmp[cell_ids] = 1\n",
    "        features_tmp_dict = {f\"feature/{i}\": features_tmp[i] for i in range(len(features_tmp))}\n",
    "        features_tmp_dict[\"id\"] = id_\n",
    "        features.append(features_tmp_dict)\n",
    "    features_df = pd.DataFrame(features)\n",
    "    category_df = pd.DataFrame(category_df).join(features_df)\n",
    "    category_df.to_csv(metadata_dir / f\"{ds}_bracket_category.csv\")"
   ]
  },
  {
   "cell_type": "code",
   "execution_count": 30,
   "id": "c296766d",
   "metadata": {},
   "outputs": [],
   "source": [
    "train_df = pd.read_csv(metadata_dir / \"train_bracket_category.csv\")"
   ]
  },
  {
   "cell_type": "code",
   "execution_count": 31,
   "id": "bd7c0847",
   "metadata": {},
   "outputs": [
    {
     "data": {
      "text/html": [
       "<div>\n",
       "<style scoped>\n",
       "    .dataframe tbody tr th:only-of-type {\n",
       "        vertical-align: middle;\n",
       "    }\n",
       "\n",
       "    .dataframe tbody tr th {\n",
       "        vertical-align: top;\n",
       "    }\n",
       "\n",
       "    .dataframe thead th {\n",
       "        text-align: right;\n",
       "    }\n",
       "</style>\n",
       "<table border=\"1\" class=\"dataframe\">\n",
       "  <thead>\n",
       "    <tr style=\"text-align: right;\">\n",
       "      <th></th>\n",
       "      <th>Unnamed: 0</th>\n",
       "      <th>category</th>\n",
       "      <th>feature/0</th>\n",
       "      <th>feature/1</th>\n",
       "      <th>feature/2</th>\n",
       "      <th>feature/3</th>\n",
       "      <th>feature/4</th>\n",
       "      <th>feature/5</th>\n",
       "      <th>feature/6</th>\n",
       "      <th>feature/7</th>\n",
       "      <th>...</th>\n",
       "      <th>feature/190</th>\n",
       "      <th>feature/191</th>\n",
       "      <th>feature/192</th>\n",
       "      <th>feature/193</th>\n",
       "      <th>feature/194</th>\n",
       "      <th>feature/195</th>\n",
       "      <th>feature/196</th>\n",
       "      <th>feature/197</th>\n",
       "      <th>feature/198</th>\n",
       "      <th>id</th>\n",
       "    </tr>\n",
       "  </thead>\n",
       "  <tbody>\n",
       "    <tr>\n",
       "      <th>0</th>\n",
       "      <td>0</td>\n",
       "      <td>flat</td>\n",
       "      <td>1.0</td>\n",
       "      <td>1.0</td>\n",
       "      <td>1.0</td>\n",
       "      <td>0.0</td>\n",
       "      <td>0.0</td>\n",
       "      <td>0.0</td>\n",
       "      <td>1.0</td>\n",
       "      <td>0.0</td>\n",
       "      <td>...</td>\n",
       "      <td>0.0</td>\n",
       "      <td>0.0</td>\n",
       "      <td>0.0</td>\n",
       "      <td>0.0</td>\n",
       "      <td>0.0</td>\n",
       "      <td>0.0</td>\n",
       "      <td>0.0</td>\n",
       "      <td>0.0</td>\n",
       "      <td>0.0</td>\n",
       "      <td>241</td>\n",
       "    </tr>\n",
       "    <tr>\n",
       "      <th>1</th>\n",
       "      <td>1</td>\n",
       "      <td>block</td>\n",
       "      <td>1.0</td>\n",
       "      <td>1.0</td>\n",
       "      <td>1.0</td>\n",
       "      <td>0.0</td>\n",
       "      <td>1.0</td>\n",
       "      <td>0.0</td>\n",
       "      <td>1.0</td>\n",
       "      <td>1.0</td>\n",
       "      <td>...</td>\n",
       "      <td>0.0</td>\n",
       "      <td>0.0</td>\n",
       "      <td>0.0</td>\n",
       "      <td>0.0</td>\n",
       "      <td>1.0</td>\n",
       "      <td>0.0</td>\n",
       "      <td>0.0</td>\n",
       "      <td>0.0</td>\n",
       "      <td>0.0</td>\n",
       "      <td>281</td>\n",
       "    </tr>\n",
       "    <tr>\n",
       "      <th>2</th>\n",
       "      <td>2</td>\n",
       "      <td>block</td>\n",
       "      <td>1.0</td>\n",
       "      <td>1.0</td>\n",
       "      <td>1.0</td>\n",
       "      <td>0.0</td>\n",
       "      <td>1.0</td>\n",
       "      <td>0.0</td>\n",
       "      <td>1.0</td>\n",
       "      <td>1.0</td>\n",
       "      <td>...</td>\n",
       "      <td>0.0</td>\n",
       "      <td>0.0</td>\n",
       "      <td>0.0</td>\n",
       "      <td>0.0</td>\n",
       "      <td>1.0</td>\n",
       "      <td>0.0</td>\n",
       "      <td>0.0</td>\n",
       "      <td>0.0</td>\n",
       "      <td>0.0</td>\n",
       "      <td>170</td>\n",
       "    </tr>\n",
       "    <tr>\n",
       "      <th>3</th>\n",
       "      <td>3</td>\n",
       "      <td>flat</td>\n",
       "      <td>1.0</td>\n",
       "      <td>1.0</td>\n",
       "      <td>1.0</td>\n",
       "      <td>0.0</td>\n",
       "      <td>1.0</td>\n",
       "      <td>0.0</td>\n",
       "      <td>1.0</td>\n",
       "      <td>0.0</td>\n",
       "      <td>...</td>\n",
       "      <td>0.0</td>\n",
       "      <td>0.0</td>\n",
       "      <td>0.0</td>\n",
       "      <td>0.0</td>\n",
       "      <td>1.0</td>\n",
       "      <td>0.0</td>\n",
       "      <td>0.0</td>\n",
       "      <td>0.0</td>\n",
       "      <td>0.0</td>\n",
       "      <td>194</td>\n",
       "    </tr>\n",
       "    <tr>\n",
       "      <th>4</th>\n",
       "      <td>4</td>\n",
       "      <td>butterfly</td>\n",
       "      <td>1.0</td>\n",
       "      <td>1.0</td>\n",
       "      <td>1.0</td>\n",
       "      <td>0.0</td>\n",
       "      <td>0.0</td>\n",
       "      <td>0.0</td>\n",
       "      <td>1.0</td>\n",
       "      <td>0.0</td>\n",
       "      <td>...</td>\n",
       "      <td>0.0</td>\n",
       "      <td>0.0</td>\n",
       "      <td>0.0</td>\n",
       "      <td>0.0</td>\n",
       "      <td>0.0</td>\n",
       "      <td>0.0</td>\n",
       "      <td>0.0</td>\n",
       "      <td>0.0</td>\n",
       "      <td>0.0</td>\n",
       "      <td>497</td>\n",
       "    </tr>\n",
       "  </tbody>\n",
       "</table>\n",
       "<p>5 rows × 202 columns</p>\n",
       "</div>"
      ],
      "text/plain": [
       "   Unnamed: 0   category  feature/0  feature/1  feature/2  feature/3  \\\n",
       "0           0       flat        1.0        1.0        1.0        0.0   \n",
       "1           1      block        1.0        1.0        1.0        0.0   \n",
       "2           2      block        1.0        1.0        1.0        0.0   \n",
       "3           3       flat        1.0        1.0        1.0        0.0   \n",
       "4           4  butterfly        1.0        1.0        1.0        0.0   \n",
       "\n",
       "   feature/4  feature/5  feature/6  feature/7  ...  feature/190  feature/191  \\\n",
       "0        0.0        0.0        1.0        0.0  ...          0.0          0.0   \n",
       "1        1.0        0.0        1.0        1.0  ...          0.0          0.0   \n",
       "2        1.0        0.0        1.0        1.0  ...          0.0          0.0   \n",
       "3        1.0        0.0        1.0        0.0  ...          0.0          0.0   \n",
       "4        0.0        0.0        1.0        0.0  ...          0.0          0.0   \n",
       "\n",
       "   feature/192  feature/193  feature/194  feature/195  feature/196  \\\n",
       "0          0.0          0.0          0.0          0.0          0.0   \n",
       "1          0.0          0.0          1.0          0.0          0.0   \n",
       "2          0.0          0.0          1.0          0.0          0.0   \n",
       "3          0.0          0.0          1.0          0.0          0.0   \n",
       "4          0.0          0.0          0.0          0.0          0.0   \n",
       "\n",
       "   feature/197  feature/198   id  \n",
       "0          0.0          0.0  241  \n",
       "1          0.0          0.0  281  \n",
       "2          0.0          0.0  170  \n",
       "3          0.0          0.0  194  \n",
       "4          0.0          0.0  497  \n",
       "\n",
       "[5 rows x 202 columns]"
      ]
     },
     "execution_count": 31,
     "metadata": {},
     "output_type": "execute_result"
    }
   ],
   "source": [
    "train_df.head()"
   ]
  },
  {
   "cell_type": "code",
   "execution_count": 62,
   "id": "421f6f73",
   "metadata": {},
   "outputs": [],
   "source": [
    "le = preprocessing.LabelEncoder()\n",
    "le.fit(train_df.category)\n",
    "y_train = le.transform(train_df.category)"
   ]
  },
  {
   "cell_type": "code",
   "execution_count": 63,
   "id": "dfc80341",
   "metadata": {},
   "outputs": [
    {
     "data": {
      "text/plain": [
       "(247,)"
      ]
     },
     "execution_count": 63,
     "metadata": {},
     "output_type": "execute_result"
    }
   ],
   "source": [
    "y_train.shape"
   ]
  },
  {
   "cell_type": "code",
   "execution_count": 64,
   "id": "8cca88f9",
   "metadata": {},
   "outputs": [],
   "source": [
    "X_train = train_df.iloc[:,2:201].to_numpy()"
   ]
  },
  {
   "cell_type": "code",
   "execution_count": 65,
   "id": "dd98517c",
   "metadata": {},
   "outputs": [
    {
     "data": {
      "text/plain": [
       "(247, 199)"
      ]
     },
     "execution_count": 65,
     "metadata": {},
     "output_type": "execute_result"
    }
   ],
   "source": [
    "X_train.shape"
   ]
  },
  {
   "cell_type": "code",
   "execution_count": 66,
   "id": "2efd0b56",
   "metadata": {},
   "outputs": [],
   "source": [
    "clf = RandomForestClassifier()\n",
    "estimator = clf.fit(X_train, y_train)"
   ]
  },
  {
   "cell_type": "code",
   "execution_count": 67,
   "id": "6849be95",
   "metadata": {},
   "outputs": [],
   "source": [
    "test_df = pd.read_csv(metadata_dir / \"train_bracket_category.csv\")"
   ]
  },
  {
   "cell_type": "code",
   "execution_count": 68,
   "id": "01791109",
   "metadata": {},
   "outputs": [],
   "source": [
    "X_test = test_df.iloc[:,2:201].to_numpy()\n",
    "y_test = le.transform(test_df.category)"
   ]
  },
  {
   "cell_type": "code",
   "execution_count": 69,
   "id": "80e467d8",
   "metadata": {},
   "outputs": [],
   "source": [
    "y_test_pred = estimator.predict(X_test)"
   ]
  },
  {
   "cell_type": "code",
   "execution_count": 71,
   "id": "bab5e3e5",
   "metadata": {},
   "outputs": [
    {
     "data": {
      "text/plain": [
       "0.9959514170040485"
      ]
     },
     "execution_count": 71,
     "metadata": {},
     "output_type": "execute_result"
    }
   ],
   "source": [
    "accuracy_score(y_test, y_test_pred)"
   ]
  },
  {
   "cell_type": "code",
   "execution_count": null,
   "id": "cd89592a",
   "metadata": {},
   "outputs": [],
   "source": []
  }
 ],
 "metadata": {
  "kernelspec": {
   "display_name": "Python [conda env:dev] *",
   "language": "python",
   "name": "conda-env-dev-py"
  },
  "language_info": {
   "codemirror_mode": {
    "name": "ipython",
    "version": 3
   },
   "file_extension": ".py",
   "mimetype": "text/x-python",
   "name": "python",
   "nbconvert_exporter": "python",
   "pygments_lexer": "ipython3",
   "version": "3.10.6"
  }
 },
 "nbformat": 4,
 "nbformat_minor": 5
}
