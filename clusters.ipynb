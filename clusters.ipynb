{
 "cells": [
  {
   "cell_type": "code",
   "execution_count": 1,
   "id": "b673aa35",
   "metadata": {},
   "outputs": [],
   "source": [
    "import os\n",
    "from pathlib import Path\n",
    "import json\n",
    "import numpy as np\n",
    "import pandas as pd\n",
    "from tqdm.auto import tqdm\n",
    "from sklearn.decomposition import PCA\n",
    "from sklearn.manifold import TSNE\n",
    "import plotly.express as px\n",
    "import torch"
   ]
  },
  {
   "cell_type": "code",
   "execution_count": 2,
   "id": "b569adff",
   "metadata": {},
   "outputs": [],
   "source": [
    "root_dir = Path(\"/home/max/Desktop/python_projects/SimJeb/\")\n",
    "metadata_dir = root_dir / \"SimJEB_metadata\"\n",
    "sdf_cluster_dir = root_dir / \"SimJEB_cluster_distances\""
   ]
  },
  {
   "cell_type": "code",
   "execution_count": 3,
   "id": "c173a082",
   "metadata": {},
   "outputs": [],
   "source": [
    "df = pd.read_csv(metadata_dir / \"all_bracket_metadata.csv\")"
   ]
  },
  {
   "cell_type": "code",
   "execution_count": 4,
   "id": "c30699d2",
   "metadata": {},
   "outputs": [
    {
     "data": {
      "text/html": [
       "<div>\n",
       "<style scoped>\n",
       "    .dataframe tbody tr th:only-of-type {\n",
       "        vertical-align: middle;\n",
       "    }\n",
       "\n",
       "    .dataframe tbody tr th {\n",
       "        vertical-align: top;\n",
       "    }\n",
       "\n",
       "    .dataframe thead th {\n",
       "        text-align: right;\n",
       "    }\n",
       "</style>\n",
       "<table border=\"1\" class=\"dataframe\">\n",
       "  <thead>\n",
       "    <tr style=\"text-align: right;\">\n",
       "      <th></th>\n",
       "      <th>id</th>\n",
       "      <th>num_vertices</th>\n",
       "      <th>num_faces</th>\n",
       "      <th>volume</th>\n",
       "      <th>surface_area</th>\n",
       "      <th>average_edge_length</th>\n",
       "      <th>genus</th>\n",
       "      <th>max_ver_xdisp</th>\n",
       "      <th>max_ver_ydisp</th>\n",
       "      <th>max_ver_zdisp</th>\n",
       "      <th>...</th>\n",
       "      <th>category</th>\n",
       "      <th>num_tets</th>\n",
       "      <th>mass</th>\n",
       "      <th>download_file</th>\n",
       "      <th>link_name</th>\n",
       "      <th>author</th>\n",
       "      <th>author_id</th>\n",
       "      <th>test_split_0</th>\n",
       "      <th>test_split_1</th>\n",
       "      <th>test_split_2</th>\n",
       "    </tr>\n",
       "  </thead>\n",
       "  <tbody>\n",
       "    <tr>\n",
       "      <th>0</th>\n",
       "      <td>0</td>\n",
       "      <td>42360</td>\n",
       "      <td>84764</td>\n",
       "      <td>307642.703591</td>\n",
       "      <td>73622.298369</td>\n",
       "      <td>1.347077</td>\n",
       "      <td>12.0</td>\n",
       "      <td>0.176923</td>\n",
       "      <td>0.073638</td>\n",
       "      <td>0.288827</td>\n",
       "      <td>...</td>\n",
       "      <td>block</td>\n",
       "      <td>570111</td>\n",
       "      <td>1.375163</td>\n",
       "      <td>FINAL BRACKET AARON WEISSBART 8.9.2013 1930 pa...</td>\n",
       "      <td>ge-bracket-001-1</td>\n",
       "      <td>Aaron Weissbart</td>\n",
       "      <td>aaron.weissbart</td>\n",
       "      <td>False</td>\n",
       "      <td>True</td>\n",
       "      <td>False</td>\n",
       "    </tr>\n",
       "    <tr>\n",
       "      <th>1</th>\n",
       "      <td>4</td>\n",
       "      <td>35622</td>\n",
       "      <td>71368</td>\n",
       "      <td>104015.598723</td>\n",
       "      <td>39149.667547</td>\n",
       "      <td>1.048514</td>\n",
       "      <td>32.0</td>\n",
       "      <td>0.687567</td>\n",
       "      <td>0.426113</td>\n",
       "      <td>1.059176</td>\n",
       "      <td>...</td>\n",
       "      <td>beam</td>\n",
       "      <td>431759</td>\n",
       "      <td>0.464950</td>\n",
       "      <td>bracket.STEP</td>\n",
       "      <td>ripple-bracket-1</td>\n",
       "      <td>simon</td>\n",
       "      <td>simon-240</td>\n",
       "      <td>False</td>\n",
       "      <td>False</td>\n",
       "      <td>False</td>\n",
       "    </tr>\n",
       "    <tr>\n",
       "      <th>2</th>\n",
       "      <td>6</td>\n",
       "      <td>35186</td>\n",
       "      <td>70532</td>\n",
       "      <td>114996.439753</td>\n",
       "      <td>58499.675375</td>\n",
       "      <td>1.306740</td>\n",
       "      <td>41.0</td>\n",
       "      <td>1.180213</td>\n",
       "      <td>2.789576</td>\n",
       "      <td>3.713256</td>\n",
       "      <td>...</td>\n",
       "      <td>block</td>\n",
       "      <td>314815</td>\n",
       "      <td>0.514034</td>\n",
       "      <td>10813 new GE bracket.IGS</td>\n",
       "      <td>ge-bracket-26</td>\n",
       "      <td>Amartesh Sehgal</td>\n",
       "      <td>amartesh.sehgal-1</td>\n",
       "      <td>False</td>\n",
       "      <td>False</td>\n",
       "      <td>False</td>\n",
       "    </tr>\n",
       "    <tr>\n",
       "      <th>3</th>\n",
       "      <td>8</td>\n",
       "      <td>24577</td>\n",
       "      <td>49174</td>\n",
       "      <td>89326.268569</td>\n",
       "      <td>30458.408764</td>\n",
       "      <td>1.130023</td>\n",
       "      <td>6.0</td>\n",
       "      <td>1.044753</td>\n",
       "      <td>0.299482</td>\n",
       "      <td>1.285331</td>\n",
       "      <td>...</td>\n",
       "      <td>beam</td>\n",
       "      <td>293971</td>\n",
       "      <td>0.399288</td>\n",
       "      <td>bracket_15.igs</td>\n",
       "      <td>ge-engine-bracket-15-1</td>\n",
       "      <td>Mandli Peter</td>\n",
       "      <td>mandli.peter</td>\n",
       "      <td>False</td>\n",
       "      <td>False</td>\n",
       "      <td>False</td>\n",
       "    </tr>\n",
       "    <tr>\n",
       "      <th>4</th>\n",
       "      <td>9</td>\n",
       "      <td>38322</td>\n",
       "      <td>76720</td>\n",
       "      <td>78486.321312</td>\n",
       "      <td>38243.142004</td>\n",
       "      <td>0.989507</td>\n",
       "      <td>20.0</td>\n",
       "      <td>1.391756</td>\n",
       "      <td>0.360266</td>\n",
       "      <td>1.927059</td>\n",
       "      <td>...</td>\n",
       "      <td>beam</td>\n",
       "      <td>481030</td>\n",
       "      <td>0.350834</td>\n",
       "      <td>EngineBracketModified_PTJ.igs</td>\n",
       "      <td>modified-engine-bracket-2</td>\n",
       "      <td>Penn</td>\n",
       "      <td>penn-1</td>\n",
       "      <td>False</td>\n",
       "      <td>False</td>\n",
       "      <td>False</td>\n",
       "    </tr>\n",
       "  </tbody>\n",
       "</table>\n",
       "<p>5 rows × 37 columns</p>\n",
       "</div>"
      ],
      "text/plain": [
       "   id  num_vertices  num_faces         volume  surface_area  \\\n",
       "0   0         42360      84764  307642.703591  73622.298369   \n",
       "1   4         35622      71368  104015.598723  39149.667547   \n",
       "2   6         35186      70532  114996.439753  58499.675375   \n",
       "3   8         24577      49174   89326.268569  30458.408764   \n",
       "4   9         38322      76720   78486.321312  38243.142004   \n",
       "\n",
       "   average_edge_length  genus  max_ver_xdisp  max_ver_ydisp  max_ver_zdisp  \\\n",
       "0             1.347077   12.0       0.176923       0.073638       0.288827   \n",
       "1             1.048514   32.0       0.687567       0.426113       1.059176   \n",
       "2             1.306740   41.0       1.180213       2.789576       3.713256   \n",
       "3             1.130023    6.0       1.044753       0.299482       1.285331   \n",
       "4             0.989507   20.0       1.391756       0.360266       1.927059   \n",
       "\n",
       "   ...  category  num_tets      mass  \\\n",
       "0  ...     block    570111  1.375163   \n",
       "1  ...      beam    431759  0.464950   \n",
       "2  ...     block    314815  0.514034   \n",
       "3  ...      beam    293971  0.399288   \n",
       "4  ...      beam    481030  0.350834   \n",
       "\n",
       "                                       download_file  \\\n",
       "0  FINAL BRACKET AARON WEISSBART 8.9.2013 1930 pa...   \n",
       "1                                       bracket.STEP   \n",
       "2                           10813 new GE bracket.IGS   \n",
       "3                                     bracket_15.igs   \n",
       "4                      EngineBracketModified_PTJ.igs   \n",
       "\n",
       "                   link_name           author          author_id  \\\n",
       "0           ge-bracket-001-1  Aaron Weissbart    aaron.weissbart   \n",
       "1           ripple-bracket-1            simon          simon-240   \n",
       "2              ge-bracket-26  Amartesh Sehgal  amartesh.sehgal-1   \n",
       "3     ge-engine-bracket-15-1     Mandli Peter       mandli.peter   \n",
       "4  modified-engine-bracket-2             Penn             penn-1   \n",
       "\n",
       "   test_split_0  test_split_1  test_split_2  \n",
       "0         False          True         False  \n",
       "1         False         False         False  \n",
       "2         False         False         False  \n",
       "3         False         False         False  \n",
       "4         False         False         False  \n",
       "\n",
       "[5 rows x 37 columns]"
      ]
     },
     "execution_count": 4,
     "metadata": {},
     "output_type": "execute_result"
    }
   ],
   "source": [
    "df.head()"
   ]
  },
  {
   "cell_type": "code",
   "execution_count": 5,
   "id": "9ec787d1",
   "metadata": {},
   "outputs": [
    {
     "data": {
      "text/plain": [
       "381"
      ]
     },
     "execution_count": 5,
     "metadata": {},
     "output_type": "execute_result"
    }
   ],
   "source": [
    "len(df)"
   ]
  },
  {
   "cell_type": "code",
   "execution_count": 6,
   "id": "7452a8ab",
   "metadata": {},
   "outputs": [],
   "source": [
    "with open(metadata_dir / \"outliers.txt\") as f:\n",
    "    outliers = f.readlines()\n",
    "outliers = [int(e.strip()) for e in outliers]"
   ]
  },
  {
   "cell_type": "code",
   "execution_count": 7,
   "id": "ab6ce90f",
   "metadata": {},
   "outputs": [
    {
     "data": {
      "text/plain": [
       "34"
      ]
     },
     "execution_count": 7,
     "metadata": {},
     "output_type": "execute_result"
    }
   ],
   "source": [
    "len(outliers)"
   ]
  },
  {
   "cell_type": "code",
   "execution_count": 8,
   "id": "9b6bd10d",
   "metadata": {},
   "outputs": [],
   "source": [
    "df = df[~df['id'].isin(outliers)]"
   ]
  },
  {
   "cell_type": "code",
   "execution_count": 9,
   "id": "96a06673",
   "metadata": {},
   "outputs": [
    {
     "data": {
      "text/plain": [
       "347"
      ]
     },
     "execution_count": 9,
     "metadata": {},
     "output_type": "execute_result"
    }
   ],
   "source": [
    "len(df)"
   ]
  },
  {
   "cell_type": "code",
   "execution_count": 15,
   "id": "86189ed9",
   "metadata": {},
   "outputs": [
    {
     "data": {
      "application/vnd.jupyter.widget-view+json": {
       "model_id": "4e3a47d3cbfe400dbbc588b87eee5531",
       "version_major": 2,
       "version_minor": 0
      },
      "text/plain": [
       "  0%|          | 0/347 [00:00<?, ?it/s]"
      ]
     },
     "metadata": {},
     "output_type": "display_data"
    }
   ],
   "source": [
    "sdf = []\n",
    "for id_ in tqdm(df.id):\n",
    "    path = sdf_cluster_dir / f\"{id_}.npy\"\n",
    "    sdf.append(np.load(path).reshape(1,-1))\n",
    "sdf = np.vstack(sdf)"
   ]
  },
  {
   "cell_type": "markdown",
   "id": "bac66404",
   "metadata": {},
   "source": [
    "# PC distances dim reduction"
   ]
  },
  {
   "cell_type": "code",
   "execution_count": 18,
   "id": "405a9656",
   "metadata": {},
   "outputs": [
    {
     "data": {
      "text/plain": [
       "(347, 1000000)"
      ]
     },
     "execution_count": 18,
     "metadata": {},
     "output_type": "execute_result"
    }
   ],
   "source": [
    "sdf.shape"
   ]
  },
  {
   "cell_type": "code",
   "execution_count": 19,
   "id": "f9d63e34",
   "metadata": {},
   "outputs": [],
   "source": [
    "pca = PCA(n_components=2)\n",
    "embeddings_pca = pca.fit_transform(sdf)"
   ]
  },
  {
   "cell_type": "code",
   "execution_count": 20,
   "id": "bd0a7d5e",
   "metadata": {},
   "outputs": [
    {
     "data": {
      "text/plain": [
       "(347, 2)"
      ]
     },
     "execution_count": 20,
     "metadata": {},
     "output_type": "execute_result"
    }
   ],
   "source": [
    "embeddings_pca.shape"
   ]
  },
  {
   "cell_type": "code",
   "execution_count": 23,
   "id": "feef42c4",
   "metadata": {},
   "outputs": [
    {
     "data": {
      "text/plain": [
       "array([0.37870489, 0.16133472])"
      ]
     },
     "execution_count": 23,
     "metadata": {},
     "output_type": "execute_result"
    }
   ],
   "source": [
    "pca.explained_variance_ratio_"
   ]
  },
  {
   "cell_type": "code",
   "execution_count": 21,
   "id": "7d2ff198",
   "metadata": {},
   "outputs": [
    {
     "name": "stderr",
     "output_type": "stream",
     "text": [
      "/tmp/ipykernel_144558/4271534839.py:1: SettingWithCopyWarning: \n",
      "A value is trying to be set on a copy of a slice from a DataFrame.\n",
      "Try using .loc[row_indexer,col_indexer] = value instead\n",
      "\n",
      "See the caveats in the documentation: https://pandas.pydata.org/pandas-docs/stable/user_guide/indexing.html#returning-a-view-versus-a-copy\n",
      "  df[\"component_0\"] = embeddings_pca[:,0]\n",
      "/tmp/ipykernel_144558/4271534839.py:2: SettingWithCopyWarning: \n",
      "A value is trying to be set on a copy of a slice from a DataFrame.\n",
      "Try using .loc[row_indexer,col_indexer] = value instead\n",
      "\n",
      "See the caveats in the documentation: https://pandas.pydata.org/pandas-docs/stable/user_guide/indexing.html#returning-a-view-versus-a-copy\n",
      "  df[\"component_1\"] = embeddings_pca[:,1]\n"
     ]
    }
   ],
   "source": [
    "df[\"component_0\"] = embeddings_pca[:,0]\n",
    "df[\"component_1\"] = embeddings_pca[:,1]"
   ]
  },
  {
   "cell_type": "code",
   "execution_count": 25,
   "id": "9c476b57",
   "metadata": {},
   "outputs": [],
   "source": [
    "fig = px.scatter(\n",
    "    df,\n",
    "    x='component_0',\n",
    "    y='component_1',\n",
    "    color='category',\n",
    "    hover_data=['id'],\n",
    "    title='PCA of SimJEB geometries based on pointcloud distances',\n",
    "    labels={'X': 'component_0', 'Y': 'component_1', 'Type': 'category', 'ID': 'ID'}\n",
    ")\n",
    "\n",
    "# Save the plot to an HTML file\n",
    "fig.write_html(metadata_dir / \"pointcloud_distance_pca_categories.html\")"
   ]
  },
  {
   "cell_type": "code",
   "execution_count": 28,
   "id": "37a694d3",
   "metadata": {},
   "outputs": [],
   "source": [
    "embeddings = TSNE(n_components=2, learning_rate='auto', init='random', perplexity=3).fit_transform(sdf)"
   ]
  },
  {
   "cell_type": "code",
   "execution_count": 29,
   "id": "6ab593fe",
   "metadata": {},
   "outputs": [
    {
     "name": "stderr",
     "output_type": "stream",
     "text": [
      "/tmp/ipykernel_144558/4202765832.py:1: SettingWithCopyWarning:\n",
      "\n",
      "\n",
      "A value is trying to be set on a copy of a slice from a DataFrame.\n",
      "Try using .loc[row_indexer,col_indexer] = value instead\n",
      "\n",
      "See the caveats in the documentation: https://pandas.pydata.org/pandas-docs/stable/user_guide/indexing.html#returning-a-view-versus-a-copy\n",
      "\n",
      "/tmp/ipykernel_144558/4202765832.py:2: SettingWithCopyWarning:\n",
      "\n",
      "\n",
      "A value is trying to be set on a copy of a slice from a DataFrame.\n",
      "Try using .loc[row_indexer,col_indexer] = value instead\n",
      "\n",
      "See the caveats in the documentation: https://pandas.pydata.org/pandas-docs/stable/user_guide/indexing.html#returning-a-view-versus-a-copy\n",
      "\n"
     ]
    }
   ],
   "source": [
    "df[\"tsne_component_0\"] = embeddings[:,0]\n",
    "df[\"tsne_component_1\"] = embeddings[:,1]"
   ]
  },
  {
   "cell_type": "code",
   "execution_count": 30,
   "id": "4c5665ca",
   "metadata": {},
   "outputs": [],
   "source": [
    "fig = px.scatter(\n",
    "    df,\n",
    "    x='tsne_component_0',\n",
    "    y='tsne_component_1',\n",
    "    color='category',\n",
    "    hover_data=['id'],\n",
    "    title='tSNE of SimJEB geometries based on pointcloud distances',\n",
    "    labels={'X': 'component_0', 'Y': 'component_1', 'Type': 'category', 'ID': 'ID'}\n",
    ")\n",
    "\n",
    "# Save the plot to an HTML file\n",
    "fig.write_html(metadata_dir / \"pointcloud_distance_tsne_categories.html\")"
   ]
  },
  {
   "cell_type": "markdown",
   "id": "77a4b2ce",
   "metadata": {},
   "source": [
    "# DeepSDF embeddings"
   ]
  },
  {
   "cell_type": "code",
   "execution_count": 10,
   "id": "12e621d0",
   "metadata": {},
   "outputs": [],
   "source": [
    "codes_dir = root_dir / \"experiments/mixed/LatentCodes\""
   ]
  },
  {
   "cell_type": "code",
   "execution_count": 11,
   "id": "6460c476",
   "metadata": {},
   "outputs": [],
   "source": [
    "pth_path = codes_dir / \"latest.pth\""
   ]
  },
  {
   "cell_type": "code",
   "execution_count": 12,
   "id": "6fcf4ece",
   "metadata": {},
   "outputs": [],
   "source": [
    "data = torch.load(pth_path)"
   ]
  },
  {
   "cell_type": "code",
   "execution_count": 18,
   "id": "d113c6fc",
   "metadata": {},
   "outputs": [
    {
     "data": {
      "text/plain": [
       "torch.Size([294, 64])"
      ]
     },
     "execution_count": 18,
     "metadata": {},
     "output_type": "execute_result"
    }
   ],
   "source": [
    "data[\"latent_codes\"][\"weight\"].shape"
   ]
  },
  {
   "cell_type": "code",
   "execution_count": 19,
   "id": "b54927a5",
   "metadata": {},
   "outputs": [],
   "source": [
    "with open(metadata_dir / \"train.txt\") as f:\n",
    "    train = f.readlines()\n",
    "train = [int(e.strip()) for e in train]"
   ]
  },
  {
   "cell_type": "code",
   "execution_count": 20,
   "id": "4acfb687",
   "metadata": {},
   "outputs": [
    {
     "data": {
      "text/plain": [
       "294"
      ]
     },
     "execution_count": 20,
     "metadata": {},
     "output_type": "execute_result"
    }
   ],
   "source": [
    "len(train)"
   ]
  },
  {
   "cell_type": "code",
   "execution_count": 24,
   "id": "7376a4b7",
   "metadata": {},
   "outputs": [],
   "source": [
    "df_train = df[df['id'].isin(train)]"
   ]
  },
  {
   "cell_type": "code",
   "execution_count": 25,
   "id": "99436b39",
   "metadata": {},
   "outputs": [
    {
     "data": {
      "text/plain": [
       "294"
      ]
     },
     "execution_count": 25,
     "metadata": {},
     "output_type": "execute_result"
    }
   ],
   "source": [
    "len(df_train)"
   ]
  },
  {
   "cell_type": "code",
   "execution_count": 21,
   "id": "d97e2a58",
   "metadata": {},
   "outputs": [],
   "source": [
    "pca = PCA(n_components=2)\n",
    "transform = pca.fit(data[\"latent_codes\"][\"weight\"])"
   ]
  },
  {
   "cell_type": "code",
   "execution_count": 36,
   "id": "6a8f1c18",
   "metadata": {},
   "outputs": [
    {
     "data": {
      "text/plain": [
       "array([0.14105572, 0.07826261])"
      ]
     },
     "execution_count": 36,
     "metadata": {},
     "output_type": "execute_result"
    }
   ],
   "source": [
    "pca.explained_variance_ratio_"
   ]
  },
  {
   "cell_type": "code",
   "execution_count": 33,
   "id": "ac763b94",
   "metadata": {},
   "outputs": [],
   "source": [
    "embeddings = transform.transform(data[\"latent_codes\"][\"weight\"])\n",
    "df_embeddings = pd.DataFrame({\"id\": train, \"component_0\": embeddings[:,0], \"component_1\": embeddings[:,1]})\n",
    "df_tmp = df_train.merge(df_embeddings)"
   ]
  },
  {
   "cell_type": "code",
   "execution_count": 35,
   "id": "aaec4e59",
   "metadata": {},
   "outputs": [],
   "source": [
    "fig = px.scatter(\n",
    "    df_tmp,\n",
    "    x='component_0',\n",
    "    y='component_1',\n",
    "    color='category',\n",
    "    hover_data=['id'],\n",
    "    title='PCA of SimJEB geometries based on DeepSDF embeddings',\n",
    "    labels={'X': 'component_0', 'Y': 'component_1', 'Type': 'category', 'ID': 'ID'}\n",
    ")\n",
    "\n",
    "# Save the plot to an HTML file\n",
    "fig.write_html(metadata_dir / \"deepsdf_categories.html\")"
   ]
  },
  {
   "cell_type": "code",
   "execution_count": null,
   "id": "c1fd5542",
   "metadata": {},
   "outputs": [],
   "source": [
    "for i in range(100, 1000, 100):\n",
    "    pth_path = codes_dir / f\"{i}.pth\"\n",
    "    codes = torch.load(pth_path)[\"latent_codes\"][\"weight\"]\n",
    "    embeddings = "
   ]
  }
 ],
 "metadata": {
  "kernelspec": {
   "display_name": "Python [conda env:dev] *",
   "language": "python",
   "name": "conda-env-dev-py"
  },
  "language_info": {
   "codemirror_mode": {
    "name": "ipython",
    "version": 3
   },
   "file_extension": ".py",
   "mimetype": "text/x-python",
   "name": "python",
   "nbconvert_exporter": "python",
   "pygments_lexer": "ipython3",
   "version": "3.10.6"
  }
 },
 "nbformat": 4,
 "nbformat_minor": 5
}
