{
 "cells": [
  {
   "cell_type": "code",
   "execution_count": 19,
   "id": "5ea593f3",
   "metadata": {},
   "outputs": [],
   "source": [
    "import os\n",
    "import json\n",
    "from pathlib import Path\n",
    "from tempfile import TemporaryFile\n",
    "\n",
    "import numpy as np\n",
    "from sklearn.manifold import TSNE\n",
    "from sklearn.decomposition import PCA\n",
    "from sklearn.neighbors import KDTree\n",
    "import scipy.special as sps\n",
    "import pyvista as pv\n",
    "import trimesh\n",
    "import pandas as pd\n",
    "from tqdm.auto import tqdm\n",
    "import seaborn as sb\n",
    "import matplotlib.pyplot as plt\n",
    "from PIL import Image"
   ]
  },
  {
   "cell_type": "code",
   "execution_count": 2,
   "id": "30ff8902",
   "metadata": {},
   "outputs": [],
   "source": [
    "data_dir = Path(\"/home/max/Desktop/python_projects/\")\n",
    "root = data_dir / \"SimJEB_surfmesh\"\n",
    "dest = data_dir / \"SimJEB_sdf\""
   ]
  },
  {
   "cell_type": "code",
   "execution_count": 16,
   "id": "9a46a28e",
   "metadata": {},
   "outputs": [],
   "source": [
    "paths = []\n",
    "for path in root.glob(\"*.obj\"):\n",
    "    paths.append(path)"
   ]
  },
  {
   "cell_type": "code",
   "execution_count": 39,
   "id": "70dd4f49",
   "metadata": {},
   "outputs": [
    {
     "name": "stderr",
     "output_type": "stream",
     "text": [
      "  0%|                                                   | 0/381 [00:08<?, ?it/s]\n"
     ]
    }
   ],
   "source": [
    "margin = 0.2\n",
    "num_samples = 250000\n",
    "uniform_fraction = 0.2\n",
    "\n",
    "num_perturb_samples = int(num_samples * (1 - uniform_fraction))\n",
    "num_uniform_samples = num_samples - num_perturb_samples\n",
    "for path in tqdm(paths):\n",
    "    mesh_orig = pv.read(path)\n",
    "    mesh = mesh_orig.extract_surface().triangulate()\n",
    "    bounds = np.array(mesh.bounds).reshape((3,2)).copy()\n",
    "    \n",
    "    max_permutation = min(bounds[:,1] - bounds[:,0]) * margin\n",
    "    s = np.random.default_rng().gamma(1., 1., num_perturb_samples)\n",
    "    median = (min(s) + max(s)) / 2\n",
    "    s[s > median] = median\n",
    "    s *= max_permutation / median\n",
    "    rnd_sign = np.random.choice([-1, 1], size=num_perturb_samples)\n",
    "    s *= rnd_sign\n",
    "    \n",
    "    faces_as_array = mesh.faces.reshape((-1, 4))[:, 1:]\n",
    "    tr_mesh = trimesh.Trimesh(vertices=mesh.points, faces=faces_as_array)\n",
    "    samples, face_index = trimesh.sample.sample_surface(tr_mesh, num_perturb_samples)\n",
    "    normals = tr_mesh.face_normals[face_index]\n",
    "    samples += normals * s.reshape(-1,1)\n",
    "    \n",
    "    center = ((bounds[:,0] + bounds[:,1]) / 2).reshape((3,1))\n",
    "    bounds = (bounds - center) * (1 + margin * 2) + center\n",
    "    uniform_samples = np.random.uniform(low=bounds[:,0], high=bounds[:,1], size=(num_uniform_samples, 3))\n",
    "    \n",
    "    samples = np.vstack([samples, uniform_samples])\n",
    "    pv_samples = pv.PolyData(samples)\n",
    "    _ = pv_samples.compute_implicit_distance(mesh_orig, inplace=True)\n",
    "    \n",
    "    distances = pv_samples[\"implicit_distance\"].reshape((-1,1))\n",
    "#     pv_samples.save(data_dir / \"SimJEB_sdf\" / f\"{path.stem}.vtk\")\n",
    "    \n",
    "    data = np.hstack([samples, distances])\n",
    "    \n",
    "    with open(data_dir / \"SimJEB_sdf\" / f\"{path.stem}.npy\", \"wb\") as f:\n",
    "        np.save(f, data)"
   ]
  },
  {
   "cell_type": "code",
   "execution_count": 23,
   "id": "74dbeb99",
   "metadata": {},
   "outputs": [
    {
     "data": {
      "text/plain": [
       "(125616,)"
      ]
     },
     "execution_count": 23,
     "metadata": {},
     "output_type": "execute_result"
    }
   ],
   "source": [
    "mesh.faces.shape"
   ]
  },
  {
   "cell_type": "code",
   "execution_count": 15,
   "id": "422947e1",
   "metadata": {},
   "outputs": [
    {
     "data": {
      "image/png": "[encoded data removed]",
      "text/plain": [
       "<Figure size 640x480 with 1 Axes>"
      ]
     },
     "metadata": {},
     "output_type": "display_data"
    }
   ],
   "source": [
    "shape, scale = 1., 1.  # mean=4, std=2*sqrt(2)\n",
    "s = np.random.default_rng().gamma(shape, scale, 1000)\n",
    "count, bins, ignored = plt.hist(s, 50, density=True)\n",
    "y = bins**(shape-1)*(np.exp(-bins/scale) /  \n",
    "                     (sps.gamma(shape)*scale**shape))\n",
    "plt.plot(bins, y, linewidth=2, color='r')  \n",
    "plt.show()"
   ]
  },
  {
   "cell_type": "code",
   "execution_count": null,
   "id": "27febcc6",
   "metadata": {},
   "outputs": [],
   "source": []
  }
 ],
 "metadata": {
  "kernelspec": {
   "display_name": "Python [conda env:dev] *",
   "language": "python",
   "name": "conda-env-dev-py"
  },
  "language_info": {
   "codemirror_mode": {
    "name": "ipython",
    "version": 3
   },
   "file_extension": ".py",
   "mimetype": "text/x-python",
   "name": "python",
   "nbconvert_exporter": "python",
   "pygments_lexer": "ipython3",
   "version": "3.10.6"
  }
 },
 "nbformat": 4,
 "nbformat_minor": 5
}
