{
 "cells": [
  {
   "cell_type": "code",
   "execution_count": 1,
   "id": "7d60d762",
   "metadata": {},
   "outputs": [],
   "source": [
    "import numpy as np\n",
    "import pyvista as pv"
   ]
  },
  {
   "cell_type": "code",
   "execution_count": 8,
   "id": "aa8cd94b",
   "metadata": {},
   "outputs": [],
   "source": [
    "data = np.load(\"/home/max/Desktop/python_projects/SimJEB_sdf/19.npy\")"
   ]
  },
  {
   "cell_type": "code",
   "execution_count": 9,
   "id": "1d835a75",
   "metadata": {},
   "outputs": [],
   "source": [
    "pts = data[:,:3]"
   ]
  },
  {
   "cell_type": "code",
   "execution_count": 10,
   "id": "2bc45bf8",
   "metadata": {},
   "outputs": [],
   "source": [
    "sdf = pts[:,-1]"
   ]
  },
  {
   "cell_type": "code",
   "execution_count": 11,
   "id": "aa53528d",
   "metadata": {},
   "outputs": [],
   "source": [
    "pc = pv.PolyData(pts)"
   ]
  },
  {
   "cell_type": "code",
   "execution_count": 12,
   "id": "e7d46e00",
   "metadata": {},
   "outputs": [],
   "source": [
    "pc[\"sdf\"] = sdf"
   ]
  },
  {
   "cell_type": "code",
   "execution_count": 13,
   "id": "fe23174c",
   "metadata": {},
   "outputs": [],
   "source": [
    "pc.save(\"/home/max/Desktop/python_projects/SimJEB_sdf/19.vtk\")"
   ]
  },
  {
   "cell_type": "code",
   "execution_count": null,
   "id": "90acc984",
   "metadata": {},
   "outputs": [],
   "source": []
  }
 ],
 "metadata": {
  "kernelspec": {
   "display_name": "Python 3 (ipykernel)",
   "language": "python",
   "name": "python3"
  },
  "language_info": {
   "codemirror_mode": {
    "name": "ipython",
    "version": 3
   },
   "file_extension": ".py",
   "mimetype": "text/x-python",
   "name": "python",
   "nbconvert_exporter": "python",
   "pygments_lexer": "ipython3",
   "version": "3.10.6"
  }
 },
 "nbformat": 4,
 "nbformat_minor": 5
}
