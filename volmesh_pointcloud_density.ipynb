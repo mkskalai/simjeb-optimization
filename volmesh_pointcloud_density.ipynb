{
 "cells": [
  {
   "cell_type": "code",
   "execution_count": 18,
   "id": "f5208e47",
   "metadata": {},
   "outputs": [
    {
     "name": "stdout",
     "output_type": "stream",
     "text": [
      "The autoreload extension is already loaded. To reload it, use:\n",
      "  %reload_ext autoreload\n"
     ]
    }
   ],
   "source": [
    "%load_ext autoreload\n",
    "%autoreload 2\n",
    "import os\n",
    "from pathlib import Path\n",
    "import numpy as np\n",
    "import pandas as pd\n",
    "import pyvista as pv\n",
    "from sklearn.model_selection import train_test_split\n",
    "from sklearn.neighbors import KDTree\n",
    "from tqdm.auto import tqdm\n",
    "from downsample import random_downsample_points"
   ]
  },
  {
   "cell_type": "code",
   "execution_count": 2,
   "id": "45bad243",
   "metadata": {},
   "outputs": [],
   "source": [
    "root_dir = Path(\"/home/max/Desktop/python_projects/SimJeb/\")\n",
    "metadata_dir = root_dir / \"SimJEB_metadata\"\n",
    "meshes_dir = root_dir / \"SimJEB_volmesh\""
   ]
  },
  {
   "cell_type": "code",
   "execution_count": 3,
   "id": "8f350fa2",
   "metadata": {},
   "outputs": [],
   "source": [
    "df = pd.read_csv(metadata_dir / \"all_bracket_metadata.csv\")\n",
    "with open(metadata_dir / \"outliers_interfaces.txt\") as f:\n",
    "    outliers = f.readlines()\n",
    "outliers = set([int(e.strip()) for e in outliers])"
   ]
  },
  {
   "cell_type": "code",
   "execution_count": 4,
   "id": "0eeec854",
   "metadata": {},
   "outputs": [
    {
     "data": {
      "text/html": [
       "<div>\n",
       "<style scoped>\n",
       "    .dataframe tbody tr th:only-of-type {\n",
       "        vertical-align: middle;\n",
       "    }\n",
       "\n",
       "    .dataframe tbody tr th {\n",
       "        vertical-align: top;\n",
       "    }\n",
       "\n",
       "    .dataframe thead th {\n",
       "        text-align: right;\n",
       "    }\n",
       "</style>\n",
       "<table border=\"1\" class=\"dataframe\">\n",
       "  <thead>\n",
       "    <tr style=\"text-align: right;\">\n",
       "      <th></th>\n",
       "      <th>id</th>\n",
       "      <th>num_vertices</th>\n",
       "      <th>num_faces</th>\n",
       "      <th>volume</th>\n",
       "      <th>surface_area</th>\n",
       "      <th>average_edge_length</th>\n",
       "      <th>genus</th>\n",
       "      <th>max_ver_xdisp</th>\n",
       "      <th>max_ver_ydisp</th>\n",
       "      <th>max_ver_zdisp</th>\n",
       "      <th>...</th>\n",
       "      <th>category</th>\n",
       "      <th>num_tets</th>\n",
       "      <th>mass</th>\n",
       "      <th>download_file</th>\n",
       "      <th>link_name</th>\n",
       "      <th>author</th>\n",
       "      <th>author_id</th>\n",
       "      <th>test_split_0</th>\n",
       "      <th>test_split_1</th>\n",
       "      <th>test_split_2</th>\n",
       "    </tr>\n",
       "  </thead>\n",
       "  <tbody>\n",
       "    <tr>\n",
       "      <th>0</th>\n",
       "      <td>0</td>\n",
       "      <td>42360</td>\n",
       "      <td>84764</td>\n",
       "      <td>307642.703591</td>\n",
       "      <td>73622.298369</td>\n",
       "      <td>1.347077</td>\n",
       "      <td>12.0</td>\n",
       "      <td>0.176923</td>\n",
       "      <td>0.073638</td>\n",
       "      <td>0.288827</td>\n",
       "      <td>...</td>\n",
       "      <td>block</td>\n",
       "      <td>570111</td>\n",
       "      <td>1.375163</td>\n",
       "      <td>FINAL BRACKET AARON WEISSBART 8.9.2013 1930 pa...</td>\n",
       "      <td>ge-bracket-001-1</td>\n",
       "      <td>Aaron Weissbart</td>\n",
       "      <td>aaron.weissbart</td>\n",
       "      <td>False</td>\n",
       "      <td>True</td>\n",
       "      <td>False</td>\n",
       "    </tr>\n",
       "    <tr>\n",
       "      <th>1</th>\n",
       "      <td>4</td>\n",
       "      <td>35622</td>\n",
       "      <td>71368</td>\n",
       "      <td>104015.598723</td>\n",
       "      <td>39149.667547</td>\n",
       "      <td>1.048514</td>\n",
       "      <td>32.0</td>\n",
       "      <td>0.687567</td>\n",
       "      <td>0.426113</td>\n",
       "      <td>1.059176</td>\n",
       "      <td>...</td>\n",
       "      <td>beam</td>\n",
       "      <td>431759</td>\n",
       "      <td>0.464950</td>\n",
       "      <td>bracket.STEP</td>\n",
       "      <td>ripple-bracket-1</td>\n",
       "      <td>simon</td>\n",
       "      <td>simon-240</td>\n",
       "      <td>False</td>\n",
       "      <td>False</td>\n",
       "      <td>False</td>\n",
       "    </tr>\n",
       "    <tr>\n",
       "      <th>2</th>\n",
       "      <td>6</td>\n",
       "      <td>35186</td>\n",
       "      <td>70532</td>\n",
       "      <td>114996.439753</td>\n",
       "      <td>58499.675375</td>\n",
       "      <td>1.306740</td>\n",
       "      <td>41.0</td>\n",
       "      <td>1.180213</td>\n",
       "      <td>2.789576</td>\n",
       "      <td>3.713256</td>\n",
       "      <td>...</td>\n",
       "      <td>block</td>\n",
       "      <td>314815</td>\n",
       "      <td>0.514034</td>\n",
       "      <td>10813 new GE bracket.IGS</td>\n",
       "      <td>ge-bracket-26</td>\n",
       "      <td>Amartesh Sehgal</td>\n",
       "      <td>amartesh.sehgal-1</td>\n",
       "      <td>False</td>\n",
       "      <td>False</td>\n",
       "      <td>False</td>\n",
       "    </tr>\n",
       "    <tr>\n",
       "      <th>3</th>\n",
       "      <td>8</td>\n",
       "      <td>24577</td>\n",
       "      <td>49174</td>\n",
       "      <td>89326.268569</td>\n",
       "      <td>30458.408764</td>\n",
       "      <td>1.130023</td>\n",
       "      <td>6.0</td>\n",
       "      <td>1.044753</td>\n",
       "      <td>0.299482</td>\n",
       "      <td>1.285331</td>\n",
       "      <td>...</td>\n",
       "      <td>beam</td>\n",
       "      <td>293971</td>\n",
       "      <td>0.399288</td>\n",
       "      <td>bracket_15.igs</td>\n",
       "      <td>ge-engine-bracket-15-1</td>\n",
       "      <td>Mandli Peter</td>\n",
       "      <td>mandli.peter</td>\n",
       "      <td>False</td>\n",
       "      <td>False</td>\n",
       "      <td>False</td>\n",
       "    </tr>\n",
       "    <tr>\n",
       "      <th>4</th>\n",
       "      <td>9</td>\n",
       "      <td>38322</td>\n",
       "      <td>76720</td>\n",
       "      <td>78486.321312</td>\n",
       "      <td>38243.142004</td>\n",
       "      <td>0.989507</td>\n",
       "      <td>20.0</td>\n",
       "      <td>1.391756</td>\n",
       "      <td>0.360266</td>\n",
       "      <td>1.927059</td>\n",
       "      <td>...</td>\n",
       "      <td>beam</td>\n",
       "      <td>481030</td>\n",
       "      <td>0.350834</td>\n",
       "      <td>EngineBracketModified_PTJ.igs</td>\n",
       "      <td>modified-engine-bracket-2</td>\n",
       "      <td>Penn</td>\n",
       "      <td>penn-1</td>\n",
       "      <td>False</td>\n",
       "      <td>False</td>\n",
       "      <td>False</td>\n",
       "    </tr>\n",
       "  </tbody>\n",
       "</table>\n",
       "<p>5 rows × 37 columns</p>\n",
       "</div>"
      ],
      "text/plain": [
       "   id  num_vertices  num_faces         volume  surface_area  \\\n",
       "0   0         42360      84764  307642.703591  73622.298369   \n",
       "1   4         35622      71368  104015.598723  39149.667547   \n",
       "2   6         35186      70532  114996.439753  58499.675375   \n",
       "3   8         24577      49174   89326.268569  30458.408764   \n",
       "4   9         38322      76720   78486.321312  38243.142004   \n",
       "\n",
       "   average_edge_length  genus  max_ver_xdisp  max_ver_ydisp  max_ver_zdisp  \\\n",
       "0             1.347077   12.0       0.176923       0.073638       0.288827   \n",
       "1             1.048514   32.0       0.687567       0.426113       1.059176   \n",
       "2             1.306740   41.0       1.180213       2.789576       3.713256   \n",
       "3             1.130023    6.0       1.044753       0.299482       1.285331   \n",
       "4             0.989507   20.0       1.391756       0.360266       1.927059   \n",
       "\n",
       "   ...  category  num_tets      mass  \\\n",
       "0  ...     block    570111  1.375163   \n",
       "1  ...      beam    431759  0.464950   \n",
       "2  ...     block    314815  0.514034   \n",
       "3  ...      beam    293971  0.399288   \n",
       "4  ...      beam    481030  0.350834   \n",
       "\n",
       "                                       download_file  \\\n",
       "0  FINAL BRACKET AARON WEISSBART 8.9.2013 1930 pa...   \n",
       "1                                       bracket.STEP   \n",
       "2                           10813 new GE bracket.IGS   \n",
       "3                                     bracket_15.igs   \n",
       "4                      EngineBracketModified_PTJ.igs   \n",
       "\n",
       "                   link_name           author          author_id  \\\n",
       "0           ge-bracket-001-1  Aaron Weissbart    aaron.weissbart   \n",
       "1           ripple-bracket-1            simon          simon-240   \n",
       "2              ge-bracket-26  Amartesh Sehgal  amartesh.sehgal-1   \n",
       "3     ge-engine-bracket-15-1     Mandli Peter       mandli.peter   \n",
       "4  modified-engine-bracket-2             Penn             penn-1   \n",
       "\n",
       "   test_split_0  test_split_1  test_split_2  \n",
       "0         False          True         False  \n",
       "1         False         False         False  \n",
       "2         False         False         False  \n",
       "3         False         False         False  \n",
       "4         False         False         False  \n",
       "\n",
       "[5 rows x 37 columns]"
      ]
     },
     "execution_count": 4,
     "metadata": {},
     "output_type": "execute_result"
    }
   ],
   "source": [
    "df.head()"
   ]
  },
  {
   "cell_type": "code",
   "execution_count": 5,
   "id": "f29778f9",
   "metadata": {},
   "outputs": [],
   "source": [
    "df = df[~df[\"id\"].isin(outliers)]"
   ]
  },
  {
   "cell_type": "code",
   "execution_count": 6,
   "id": "033b67a5",
   "metadata": {},
   "outputs": [],
   "source": [
    "df_train, df_test = train_test_split(df, stratify=df[\"category\"])"
   ]
  },
  {
   "cell_type": "code",
   "execution_count": 7,
   "id": "131e8f75",
   "metadata": {},
   "outputs": [],
   "source": [
    "df_train.to_csv(metadata_dir / \"train_bracket_metadata.csv\")\n",
    "df_test.to_csv(metadata_dir / \"test_bracket_metadata.csv\")"
   ]
  },
  {
   "cell_type": "code",
   "execution_count": 8,
   "id": "9200bfdb",
   "metadata": {},
   "outputs": [
    {
     "data": {
      "text/plain": [
       "array(['flat', 'block', 'butterfly', 'arch', 'beam', 'other'],\n",
       "      dtype=object)"
      ]
     },
     "execution_count": 8,
     "metadata": {},
     "output_type": "execute_result"
    }
   ],
   "source": [
    "df_train[\"category\"].unique()"
   ]
  },
  {
   "cell_type": "code",
   "execution_count": 9,
   "id": "4b0544af",
   "metadata": {},
   "outputs": [
    {
     "data": {
      "text/plain": [
       "array(['flat', 'arch', 'butterfly', 'block', 'beam', 'other'],\n",
       "      dtype=object)"
      ]
     },
     "execution_count": 9,
     "metadata": {},
     "output_type": "execute_result"
    }
   ],
   "source": [
    "df_test[\"category\"].unique()"
   ]
  },
  {
   "cell_type": "code",
   "execution_count": 10,
   "id": "43ae9ddc",
   "metadata": {},
   "outputs": [],
   "source": [
    "cat_counts = df_train[\"category\"].value_counts()"
   ]
  },
  {
   "cell_type": "code",
   "execution_count": 11,
   "id": "9f589b49",
   "metadata": {},
   "outputs": [],
   "source": [
    "min_cat_count = min([v for _, v in cat_counts.items()])"
   ]
  },
  {
   "cell_type": "code",
   "execution_count": 12,
   "id": "5918288c",
   "metadata": {},
   "outputs": [
    {
     "data": {
      "text/plain": [
       "4"
      ]
     },
     "execution_count": 12,
     "metadata": {},
     "output_type": "execute_result"
    }
   ],
   "source": [
    "min_cat_count"
   ]
  },
  {
   "cell_type": "code",
   "execution_count": 13,
   "id": "94824f08",
   "metadata": {},
   "outputs": [
    {
     "data": {
      "application/vnd.jupyter.widget-view+json": {
       "model_id": "2aa6fb9be81c4e6ba93ade2333576aa6",
       "version_major": 2,
       "version_minor": 0
      },
      "text/plain": [
       "0it [00:00, ?it/s]"
      ]
     },
     "metadata": {},
     "output_type": "display_data"
    }
   ],
   "source": [
    "cat_to_points = {c: [] for c in df_train[\"category\"].unique()}\n",
    "for id_, cat in tqdm(zip(df_train[\"id\"], df_train[\"category\"])):\n",
    "    mesh = pv.read(meshes_dir / f\"{str(id_)}.vtk\")\n",
    "    cat_to_points[cat].append(mesh.points)\n",
    "cat_to_points = {c: np.vstack(p) for c, p in cat_to_points.items()}"
   ]
  },
  {
   "cell_type": "code",
   "execution_count": 14,
   "id": "1507bd71",
   "metadata": {},
   "outputs": [],
   "source": [
    "for c, pts in cat_to_points.items():\n",
    "    cat_to_points[c] = random_downsample_points(\n",
    "        pts, \n",
    "        int(min_cat_count * len(pts) / cat_counts[c])\n",
    "    )"
   ]
  },
  {
   "cell_type": "code",
   "execution_count": 15,
   "id": "8ca59fe5",
   "metadata": {},
   "outputs": [],
   "source": [
    "pts = pv.PolyData(np.vstack(\n",
    "    [p for c, p in cat_to_points.items()]\n",
    "))"
   ]
  },
  {
   "cell_type": "code",
   "execution_count": 17,
   "id": "68c98679",
   "metadata": {},
   "outputs": [
    {
     "data": {
      "text/plain": [
       "2106278"
      ]
     },
     "execution_count": 17,
     "metadata": {},
     "output_type": "execute_result"
    }
   ],
   "source": [
    "len(pts.points)"
   ]
  },
  {
   "cell_type": "code",
   "execution_count": 20,
   "id": "e9d821e2",
   "metadata": {},
   "outputs": [],
   "source": [
    "kdt = KDTree(pts.points)\n",
    "dd, ii = kdt.query(pts.points, k=100)\n",
    "nd = np.mean(dd[:,1:], axis=1)\n",
    "pts[\"neighbours_distance\"] = nd"
   ]
  },
  {
   "cell_type": "code",
   "execution_count": 21,
   "id": "efb0ee06",
   "metadata": {},
   "outputs": [],
   "source": [
    "pts.save(meshes_dir / \"train_volmesh_points_density.vtk\")"
   ]
  },
  {
   "cell_type": "code",
   "execution_count": null,
   "id": "c2bdb54a",
   "metadata": {},
   "outputs": [],
   "source": []
  }
 ],
 "metadata": {
  "kernelspec": {
   "display_name": "Python [conda env:dev] *",
   "language": "python",
   "name": "conda-env-dev-py"
  },
  "language_info": {
   "codemirror_mode": {
    "name": "ipython",
    "version": 3
   },
   "file_extension": ".py",
   "mimetype": "text/x-python",
   "name": "python",
   "nbconvert_exporter": "python",
   "pygments_lexer": "ipython3",
   "version": "3.10.6"
  }
 },
 "nbformat": 4,
 "nbformat_minor": 5
}
